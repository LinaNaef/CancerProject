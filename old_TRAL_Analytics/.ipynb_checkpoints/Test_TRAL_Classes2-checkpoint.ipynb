{
 "cells": [
  {
   "cell_type": "code",
   "execution_count": 3,
   "metadata": {},
   "outputs": [
    {
     "data": {
      "text/plain": [
       "['',\n",
       " '/home/lina/SynologyDrive/TRAL_Masterthesis/TRAL_Pipeline_Analytics/TRAL_Analytics',\n",
       " '/home/lina/anaconda3/envs/test_tral/lib/python37.zip',\n",
       " '/home/lina/anaconda3/envs/test_tral/lib/python3.7',\n",
       " '/home/lina/anaconda3/envs/test_tral/lib/python3.7/lib-dynload',\n",
       " '/home/lina/anaconda3/envs/test_tral/lib/python3.7/site-packages',\n",
       " '/home/lina/anaconda3/envs/test_tral/lib/python3.7/site-packages/IPython/extensions',\n",
       " '/home/lina/.ipython',\n",
       " '/home/lina/.local/lib/python3.5/site-packages',\n",
       " '/usr/local/lib/python3.5/dist-packages',\n",
       " '/usr/lib/python3/dist-packages']"
      ]
     },
     "execution_count": 3,
     "metadata": {},
     "output_type": "execute_result"
    }
   ],
   "source": [
    "import sys\n",
    "sys.path"
   ]
  },
  {
   "cell_type": "code",
   "execution_count": 2,
   "metadata": {},
   "outputs": [],
   "source": [
    "sys.path.append(\"/home/lina/.local/lib/python3.5/site-packages\") \n",
    "sys.path.append('/usr/local/lib/python3.5/dist-packages')\n",
    "sys.path.append('/usr/lib/python3/dist-packages') "
   ]
  },
  {
   "cell_type": "code",
   "execution_count": 4,
   "metadata": {},
   "outputs": [],
   "source": [
    "##########################################################################\n",
    "### Importing required modules\n",
    "##########################################################################\n",
    "\n",
    "import os\n",
    "\n",
    "# modules in this folder\n",
    "import get_sequences\n",
    "import find_TRs_in_genes\n",
    "\n",
    "# ## AA reference\n",
    "working_directory = \"/home/lina/Desktop/TRAL_Masterthesis/references/Uniprot_data/pickles\"\n",
    "sequences_path = \"/home/lina/Desktop/TRAL_Masterthesis/references/Uniprot_data\"\n",
    "\n",
    "## DNA reference\n",
    "#working_directory = \"/home/lina/Desktop/TRAL_Masterthesis/references/NCBI/pickles\"\n",
    "#sequences_path = \"/home/lina/Desktop/TRAL_Masterthesis/references/NCBI\""
   ]
  },
  {
   "cell_type": "code",
   "execution_count": 5,
   "metadata": {},
   "outputs": [],
   "source": [
    "genes = [\"APC\"]\n",
    "gene = \"APC\""
   ]
  },
  {
   "cell_type": "code",
   "execution_count": 30,
   "metadata": {},
   "outputs": [],
   "source": [
    "# AA\n",
    "detectors = [\"XSTREAM\",\"HHrepID\",\"T-REKS\",\"TRUST\"] # AA compatible detectors\n",
    "\n",
    "# DNA\n",
    "#detectors = [\"T-REKS\", \"TRF\", \"XSTREAM\"] # DNA compatible detectors (without TRED and Phobos)"
   ]
  },
  {
   "cell_type": "markdown",
   "metadata": {},
   "source": [
    "### Sequence"
   ]
  },
  {
   "cell_type": "code",
   "execution_count": 29,
   "metadata": {},
   "outputs": [],
   "source": [
    "sequences = get_sequences.sequences_per_gene(genes, sequences_path, show_time=False, as_pickle=False, patient=False)"
   ]
  },
  {
   "cell_type": "code",
   "execution_count": 35,
   "metadata": {},
   "outputs": [],
   "source": [
    "def get_TRs_per_detector(detectors, sequences, gene):\n",
    "    TRs_per_detector = {}\n",
    "    for detector in detectors:\n",
    "        TRs = find_TRs_in_genes.get_TRs(detector, sequences[gene])\n",
    "        TRs_per_detector.update({detector:TRs[0]})\n",
    "    return TRs_per_detector"
   ]
  },
  {
   "cell_type": "code",
   "execution_count": 37,
   "metadata": {},
   "outputs": [],
   "source": [
    "TRs_per_detector = get_TRs_per_detector(detectors, sequences, gene)"
   ]
  },
  {
   "cell_type": "markdown",
   "metadata": {},
   "source": [
    "### Repeatlist"
   ]
  },
  {
   "cell_type": "code",
   "execution_count": 38,
   "metadata": {},
   "outputs": [
    {
     "data": {
      "text/plain": [
       "tral.repeat_list.repeat_list.RepeatList"
      ]
     },
     "execution_count": 38,
     "metadata": {},
     "output_type": "execute_result"
    }
   ],
   "source": [
    "type(TRs_per_detector[\"T-REKS\"])"
   ]
  },
  {
   "cell_type": "markdown",
   "metadata": {},
   "source": [
    "### Repeat"
   ]
  },
  {
   "cell_type": "code",
   "execution_count": 39,
   "metadata": {},
   "outputs": [
    {
     "data": {
      "text/plain": [
       "tral.repeat.repeat.Repeat"
      ]
     },
     "execution_count": 39,
     "metadata": {},
     "output_type": "execute_result"
    }
   ],
   "source": [
    "type(TRs_per_detector[\"XSTREAM\"].repeats[0])"
   ]
  },
  {
   "cell_type": "markdown",
   "metadata": {},
   "source": [
    "### Calculate pvalue"
   ]
  },
  {
   "cell_type": "code",
   "execution_count": 41,
   "metadata": {
    "scrolled": true
   },
   "outputs": [
    {
     "name": "stdout",
     "output_type": "stream",
     "text": [
      "Detector XSTREAM\n",
      "> begin:2323 l_effective:7 n:3 pvalue:0.0 divergence:0.1414794922592041 type:phylo_gap01\n",
      "SPGRNSI\n",
      "SPGRNGI\n",
      "SP-----\n",
      "> begin:1132 l_effective:4 n:2 pvalue:0.0012999999999999678 divergence:0.24224853520780032 type:phylo_gap01\n",
      "EDDY\n",
      "EDDK\n",
      "> begin:1143 l_effective:4 n:2 pvalue:0.00019999999999997797 divergence:0.20581054693383788 type:phylo_gap01\n",
      "YSER\n",
      "YSEE\n",
      "> begin:1469 l_effective:4 n:3 pvalue:0.07250000000000001 divergence:0.21832275396258544 type:phylo_gap01\n",
      "QAAV\n",
      "NAAV\n",
      "Q---\n",
      "> begin:1275 l_effective:3 n:3 pvalue:0.00019999999999997797 divergence:0.10064697273612061 type:phylo_gap01\n",
      "SSL\n",
      "SSL\n",
      "SS-\n",
      "> begin:1967 l_effective:3 n:3 pvalue:0.012299999999999978 divergence:0.1188964844512207 type:phylo_gap01\n",
      "SSL\n",
      "SSL\n",
      "S--\n",
      "> begin:2025 l_effective:3 n:3 pvalue:0.012299999999999978 divergence:0.1188964844512207 type:phylo_gap01\n",
      "SSL\n",
      "SSL\n",
      "S--\n",
      "> begin:2577 l_effective:3 n:2 pvalue:0.00019999999999997797 divergence:1e-10 type:phylo_gap01\n",
      "SSE\n",
      "SSE\n",
      "> begin:2763 l_effective:1 n:6 pvalue:0.0 divergence:1e-10 type:phylo_gap01\n",
      "S\n",
      "S\n",
      "S\n",
      "S\n",
      "S\n",
      "S\n",
      "Detector HHrepID\n",
      "No TRs detected with HHrepID\n",
      "Detector T-REKS\n",
      "> begin:1136 l_effective:3 n:7 pvalue:1.0 divergence:1.7138671875 type:phylo_gap01\n",
      "-ED-D-\n",
      "-KPTN-\n",
      "YSE-R-\n",
      "-YS-E-\n",
      "-EE-QH\n",
      "-EE---\n",
      "-EE-R-\n",
      "> begin:2569 l_effective:3 n:5 pvalue:0.0010000000000000009 divergence:0.3243408203476318 type:phylo_gap01\n",
      "SS-\n",
      "SSI\n",
      "LSA\n",
      "SSE\n",
      "SSE\n",
      "> begin:1356 l_effective:7 n:2 pvalue:0.0 divergence:0.2545166016115967 type:phylo_gap01\n",
      "SGAKSPSK\n",
      "SGAQTP-K\n",
      "> begin:2086 l_effective:7 n:2 pvalue:0.0007000000000000339 divergence:0.40960693361182854 type:phylo_gap01\n",
      "PDSEHGLS\n",
      "PDSEN-FD\n",
      "> begin:2323 l_effective:7 n:3 pvalue:0.0 divergence:0.4279174804831666 type:phylo_gap01\n",
      "SPGRNSI-\n",
      "SPGRNGI-\n",
      "SPP-NKLS\n",
      "Detector TRUST\n",
      "No TRs detected with TRUST\n"
     ]
    }
   ],
   "source": [
    "for detector in detectors:\n",
    "    print(\"Detector {}:\".format(detector))\n",
    "    if len(TRs_per_detector[detector].repeats) == 0:\n",
    "        print(\"No TRs detected with {}\".format(detector))\n",
    "    else:\n",
    "        for i in range(len(TRs_per_detector[detector].repeats)):\n",
    "            TRs_per_detector[detector].repeats[i].calculate_pvalues()\n",
    "            print(TRs_per_detector[detector].repeats[i])"
   ]
  },
  {
   "cell_type": "code",
   "execution_count": null,
   "metadata": {},
   "outputs": [],
   "source": [
    "for detector in detectors:\n",
    "    print(\"Detector {}:\".format(detector))\n",
    "    if len(TRs_per_detector[detector].repeats) == 0:\n",
    "        print(\"No TRs detected with {}\\n\".format(detector))\n",
    "    else:\n",
    "        for i in range(len(TRs_per_detector[detector].repeats)):\n",
    "            TRs_per_detector[detector].repeats[i].calculate_pvalues()\n",
    "            print(TRs_per_detector[detector].repeats[i])"
   ]
  },
  {
   "cell_type": "markdown",
   "metadata": {},
   "source": [
    "### filter for a certain pvalue"
   ]
  },
  {
   "cell_type": "code",
   "execution_count": null,
   "metadata": {},
   "outputs": [],
   "source": [
    "overlap_type = \"common_ancestry\""
   ]
  },
  {
   "cell_type": "code",
   "execution_count": null,
   "metadata": {},
   "outputs": [],
   "source": [
    "overlap_type = \"shared_char\"\n",
    "for detector in detectors:\n",
    "    print(\"Detector {}:\\n\".format(detector))\n",
    "    if len(TRs_per_detector[detector].repeats) == 0:\n",
    "        print(\"No TRs detected with {}\\n\".format(detector))\n",
    "    else:\n",
    "        repeat_list_clustered = TRs_per_detector[detector].filter(\"none_overlapping\", (overlap_type, None), [(\"pvalue\", score), (\"divergence\", score)])\n",
    "        print(\"Without filtering:\", len(TRs_per_detector[detector].repeats))\n",
    "        print(\"After filtering:\", len(repeat_list_filtered.repeats))"
   ]
  },
  {
   "cell_type": "code",
   "execution_count": 53,
   "metadata": {},
   "outputs": [
    {
     "name": "stdout",
     "output_type": "stream",
     "text": [
      "Detector XSTREAM:\n",
      "\n",
      "Without filtering: 9\n",
      "After filtering: 9\n",
      "Detector HHrepID:\n",
      "\n",
      "No TRs detected with HHrepID\n",
      "\n",
      "Detector T-REKS:\n",
      "\n",
      "Without filtering: 5\n",
      "After filtering: 5\n",
      "Detector TRUST:\n",
      "\n",
      "No TRs detected with TRUST\n",
      "\n"
     ]
    }
   ],
   "source": [
    "overlap_type = \"common_ancestry\"\n",
    "score = \"phylo_gap01\"\n",
    "for detector in detectors:\n",
    "    print(\"Detector {}:\\n\".format(detector))\n",
    "    if len(TRs_per_detector[detector].repeats) == 0:\n",
    "        print(\"No TRs detected with {}\\n\".format(detector))\n",
    "    else:\n",
    "        repeat_list_filtered = TRs_per_detector[detector].filter(\"none_overlapping\", (overlap_type, None), [(\"pvalue\", score), (\"divergence\", score)])\n",
    "        print(\"Without filtering:\", len(TRs_per_detector[detector].repeats))\n",
    "        print(\"After filtering:\", len(repeat_list_filtered.repeats))"
   ]
  },
  {
   "cell_type": "code",
   "execution_count": 49,
   "metadata": {},
   "outputs": [
    {
     "name": "stdout",
     "output_type": "stream",
     "text": [
      "Detector XSTREAM:\n",
      "\n",
      "Without filtering: 9\n",
      "After filtering for pvalue 0.05: 8\n",
      "Detector HHrepID:\n",
      "\n",
      "No TRs detected with HHrepID\n",
      "Detector T-REKS:\n",
      "\n",
      "Without filtering: 5\n",
      "After filtering for pvalue 0.05: 4\n",
      "Detector TRUST:\n",
      "\n",
      "No TRs detected with TRUST\n"
     ]
    }
   ],
   "source": [
    "for detector in detectors:\n",
    "    print(\"Detector {}:\\n\".format(detector))\n",
    "    if len(TRs_per_detector[detector].repeats) == 0:\n",
    "        print(\"No TRs detected with {}\".format(detector))\n",
    "    else:\n",
    "        TRs_per_detector[detector].cluster\n",
    "        repeat_list_filtered = TRs_per_detector[detector].filter(func_name = \"pvalue\", score = \"phylo_gap01\", threshold = 0.05)\n",
    "        print(\"Without filtering:\", len(TRs_per_detector[detector].repeats))\n",
    "        print(\"After filtering for pvalue 0.05:\", len(repeat_list_filtered.repeats))"
   ]
  },
  {
   "cell_type": "code",
   "execution_count": null,
   "metadata": {},
   "outputs": [],
   "source": []
  },
  {
   "cell_type": "code",
   "execution_count": null,
   "metadata": {},
   "outputs": [],
   "source": []
  },
  {
   "cell_type": "code",
   "execution_count": null,
   "metadata": {},
   "outputs": [],
   "source": []
  }
 ],
 "metadata": {
  "kernelspec": {
   "display_name": "Python 3",
   "language": "python",
   "name": "python3"
  },
  "language_info": {
   "codemirror_mode": {
    "name": "ipython",
    "version": 3
   },
   "file_extension": ".py",
   "mimetype": "text/x-python",
   "name": "python",
   "nbconvert_exporter": "python",
   "pygments_lexer": "ipython3",
   "version": "3.7.1"
  }
 },
 "nbformat": 4,
 "nbformat_minor": 2
}
