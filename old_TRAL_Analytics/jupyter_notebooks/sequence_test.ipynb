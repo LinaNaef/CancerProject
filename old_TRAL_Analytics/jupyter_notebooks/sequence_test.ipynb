{
 "cells": [
  {
   "cell_type": "code",
   "execution_count": 1,
   "metadata": {},
   "outputs": [],
   "source": [
    "import os\n",
    "import pytest\n",
    "\n",
    "from tral.hmm.hmm import HMM\n",
    "from tral.sequence import sequence\n",
    "from tral.repeat import repeat\n",
    "from tral.repeat_list import repeat_list"
   ]
  },
  {
   "cell_type": "code",
   "execution_count": 2,
   "metadata": {},
   "outputs": [],
   "source": [
    "TEST_SEQUENCE = \"FFAAAAAAFF\"\n",
    "# Zinc finger protein Q9BRR0\n",
    "TEST_SEQUENCE_Q9BRR0 = \"MARELSESTALDAQSTEDQMELLVIKVEEEEAGFPSSPDLGSEGSRERFRGFRYPEAAGPREALSRLRELCRQWLQPEMHSKEQILELLVLEQFLTILPGNLQSWVREQHPESGEEVVVLLEYLERQLDEPAPQVSGVDQGQELLCCKMALLTPAPGSQSSQFQLMKALLKHESVGSQPLQDRVLQVPVLAHGGCCREDKVVASRLTPESQGLLKVEDVALTLTPEWTQQDSSQGNLCRDEKQENHGSLVSLGDEKQTKSRDLPPAEELPEKEHGKISCHLREDIAQIPTCAEAGEQEGRLQRKQKNATGGRRHICHECGKSFAQSSGLSKHRRIHTGEKPYECEECGKAFIGSSALVIHQRVHTGEKPYECEECGKAFSHSSDLIKHQRTHTGEKPYECDDCGKTFSQSCSLLEHHRIHTGEKPYQCSMCGKAFRRSSHLLRHQRIHTGDKNVQEPEQGEAWKSRMESQLENVETPMSYKCNECERSFTQNTGLIEHQKIHTGEKPYQCNACGKGFTRISYLVQHQRSHVGKNILSQ\"\n",
    "\n",
    "\n",
    "TEST_REPEAT_MSA_SINGLE = [\"A\",\"A\",\"A\"]\n",
    "TEST_RESULT_REPEAT_MSA_SINGLE = [\"A\",\"A\",\"A\",\"A\",\"A\",\"A\"]\n",
    "\n",
    "TEST_REPEAT_MSA_DOUBLE = [\"AA\",\"AA\"]\n",
    "TEST_RESULT_REPEAT_MSA_DOUBLE = [\"AA\",\"AA\",\"AA\"]\n",
    "\n",
    "TEST_RESULT_REPEAT_MSA_LONG = [10*\"A\", 10*\"A\"]\n",
    "TEST_SEQUENCE_A = 18*\"A\"\n",
    "\n",
    "TEST_RESULT_REPEAT_MSA_SUPER_LONG = [100*\"A\", 100*\"A\"]\n",
    "TEST_SEQUENCE_SUPER_LONG_A = 200*\"A\""
   ]
  },
  {
   "cell_type": "code",
   "execution_count": 3,
   "metadata": {},
   "outputs": [],
   "source": [
    "#Test file names\n",
    "TEST_FILE_WITH_ID = 'carcinustatin.hmm'\n",
    "TEST_SEQUENCE_TAG = 'test_sequence_tag'\n",
    "\n",
    "notfixed = pytest.mark.notfixed"
   ]
  },
  {
   "cell_type": "code",
   "execution_count": 19,
   "metadata": {},
   "outputs": [],
   "source": [
    "# path() like this does not working since I have to be a directory below to work with jupyter. not quite sure why.\n",
    "@pytest.fixture\n",
    "def path_not_working():\n",
    "    \"\"\"Return the path to the test data files.\n",
    "    \"\"\"\n",
    "    return os.path.join(os.path.abspath('.'), 'hmm', 'test')"
   ]
  },
  {
   "cell_type": "code",
   "execution_count": 20,
   "metadata": {},
   "outputs": [],
   "source": [
    "def path():\n",
    "    \"\"\"Return the path to the test data files.\n",
    "    \"\"\"\n",
    "    return os.path.join(os.path.abspath('.'),'tral', 'hmm', 'test')"
   ]
  },
  {
   "cell_type": "code",
   "execution_count": 22,
   "metadata": {},
   "outputs": [
    {
     "name": "stdout",
     "output_type": "stream",
     "text": [
      "/home/lina/SynologyDrive/tral/hmm/test\n",
      "/home/lina/SynologyDrive/tral/tral/hmm/test\n"
     ]
    }
   ],
   "source": [
    "print(path_not_working())\n",
    "print(path())"
   ]
  },
  {
   "cell_type": "code",
   "execution_count": 12,
   "metadata": {},
   "outputs": [],
   "source": [
    "@pytest.mark.no_external_software_required\n",
    "def test_initialise_sequence():\n",
    "    test_seq = sequence.Sequence(TEST_SEQUENCE)\n",
    "    assert test_seq.seq == TEST_SEQUENCE"
   ]
  },
  {
   "cell_type": "code",
   "execution_count": 24,
   "metadata": {},
   "outputs": [],
   "source": [
    "test_seq = sequence.Sequence(TEST_SEQUENCE)"
   ]
  },
  {
   "cell_type": "code",
   "execution_count": 25,
   "metadata": {},
   "outputs": [
    {
     "name": "stdout",
     "output_type": "stream",
     "text": [
      "test_seq <tral.sequence.sequence.Sequence object at 0x7fdcca986fd0>\n",
      "TEST_SEQUENCE FFAAAAAAFF\n"
     ]
    }
   ],
   "source": [
    "test_initialise_sequence()\n",
    "print(\"test_seq\",test_seq)\n",
    "print(\"TEST_SEQUENCE\",TEST_SEQUENCE)"
   ]
  },
  {
   "cell_type": "code",
   "execution_count": 26,
   "metadata": {},
   "outputs": [],
   "source": [
    "@pytest.mark.no_external_software_required\n",
    "def test_detect_repeats_with_hmm():\n",
    "    test_hmm = HMM.create(input_format = 'hmmer', file = os.path.join(path(), TEST_FILE_WITH_ID))\n",
    "    test_seq = sequence.Sequence(TEST_SEQUENCE)\n",
    "    test_optimized_repeat = test_seq.detect([test_hmm])"
   ]
  },
  {
   "cell_type": "code",
   "execution_count": 27,
   "metadata": {},
   "outputs": [],
   "source": [
    "test_hmm = HMM.create(input_format = 'hmmer', file = os.path.join(path(), TEST_FILE_WITH_ID))\n",
    "test_seq = sequence.Sequence(TEST_SEQUENCE)\n",
    "test_optimized_repeat = test_seq.detect([test_hmm])"
   ]
  },
  {
   "cell_type": "code",
   "execution_count": 30,
   "metadata": {},
   "outputs": [
    {
     "ename": "TypeError",
     "evalue": "'HMM' object is not iterable",
     "output_type": "error",
     "traceback": [
      "\u001b[0;31m---------------------------------------------------------------------------\u001b[0m",
      "\u001b[0;31mTypeError\u001b[0m                                 Traceback (most recent call last)",
      "\u001b[0;32m<ipython-input-30-89f5dfa9c8ab>\u001b[0m in \u001b[0;36m<module>\u001b[0;34m\u001b[0m\n\u001b[0;32m----> 1\u001b[0;31m \u001b[0;32mfor\u001b[0m \u001b[0mi\u001b[0m \u001b[0;32min\u001b[0m \u001b[0mtest_hmm\u001b[0m\u001b[0;34m:\u001b[0m\u001b[0;34m\u001b[0m\u001b[0m\n\u001b[0m\u001b[1;32m      2\u001b[0m     \u001b[0mprint\u001b[0m\u001b[0;34m(\u001b[0m\u001b[0mi\u001b[0m\u001b[0;34m)\u001b[0m\u001b[0;34m\u001b[0m\u001b[0m\n",
      "\u001b[0;31mTypeError\u001b[0m: 'HMM' object is not iterable"
     ]
    }
   ],
   "source": [
    "for i in test_hmm:\n",
    "    print(i)"
   ]
  },
  {
   "cell_type": "code",
   "execution_count": 7,
   "metadata": {},
   "outputs": [],
   "source": [
    "#@notfixed\n",
    "def test_detect_repeats_with_repeat():\n",
    "\n",
    "    test_repeat = repeat.Repeat(msa = TEST_REPEAT_MSA_DOUBLE)\n",
    "    test_hmm = HMM.create(input_format = 'repeat', repeat = test_repeat)\n",
    "    test_seq = sequence.Sequence(TEST_SEQUENCE)\n",
    "    test_optimized_repeat = test_seq.detect([test_hmm])\n",
    "    assert type(test_optimized_repeat) == repeat_list.RepeatList\n",
    "    assert len(test_optimized_repeat.repeats) == 1\n",
    "    assert test_optimized_repeat.repeats[0].msa == TEST_RESULT_REPEAT_MSA_DOUBLE\n",
    "\n",
    "    test_repeat = repeat.Repeat(msa = TEST_REPEAT_MSA_SINGLE)\n",
    "    test_hmm = HMM.create(input_format = 'repeat', repeat = test_repeat)\n",
    "    test_optimized_repeat = test_seq.detect([test_hmm])\n",
    "    assert type(test_optimized_repeat) == repeat_list.RepeatList\n",
    "    assert len(test_optimized_repeat.repeats) == 1\n",
    "    assert test_optimized_repeat.repeats[0].msa == TEST_RESULT_REPEAT_MSA_SINGLE"
   ]
  },
  {
   "cell_type": "code",
   "execution_count": 6,
   "metadata": {},
   "outputs": [],
   "source": [
    "@pytest.mark.no_external_software_required\n",
    "def test_too_big_hmms():\n",
    "\n",
    "    test_repeat = repeat.Repeat(msa = TEST_RESULT_REPEAT_MSA_LONG)\n",
    "    test_hmm = HMM.create(input_format = 'repeat', repeat = test_repeat)\n",
    "    test_seq = sequence.Sequence(TEST_SEQUENCE_A)\n",
    "    test_optimized_repeat = test_seq.detect([test_hmm])\n",
    "    assert type(test_optimized_repeat) == repeat_list.RepeatList\n",
    "    assert len(test_optimized_repeat.repeats) == 0\n",
    "\n",
    "    test_repeat = repeat.Repeat(msa = TEST_RESULT_REPEAT_MSA_SUPER_LONG)\n",
    "    test_hmm = HMM.create(input_format = 'repeat', repeat = test_repeat)\n",
    "    test_seq = sequence.Sequence(TEST_SEQUENCE_SUPER_LONG_A)\n",
    "    test_optimized_repeat = test_seq.detect([test_hmm])\n",
    "    assert type(test_optimized_repeat) == repeat_list.RepeatList\n",
    "    assert len(test_optimized_repeat.repeats) == 0"
   ]
  },
  {
   "cell_type": "code",
   "execution_count": 5,
   "metadata": {},
   "outputs": [],
   "source": [
    "#@notfixed\n",
    "def test_detect_repeats_denovo():\n",
    "\n",
    "    test_parameters = {\"detection\": {\"detectors\": [\"TRUST\"]}}\n",
    "\n",
    "    test_seq = sequence.Sequence(TEST_SEQUENCE_Q9BRR0)\n",
    "    test_optimized_repeat = test_seq.detect(denovo = True, **test_parameters)\n",
    "\n",
    "    assert type(test_optimized_repeat) == repeat_list.RepeatList\n",
    "    assert len(test_optimized_repeat.repeats) == 3"
   ]
  },
  {
   "cell_type": "code",
   "execution_count": 10,
   "metadata": {},
   "outputs": [],
   "source": [
    "@pytest.mark.no_external_software_required\n",
    "def test_sequence_pickle():\n",
    "\n",
    "    test_seq = sequence.Sequence(TEST_SEQUENCE)\n",
    "\n",
    "    test_pickle = os.path.join(path(), \"test.pickle\")\n",
    "    test_seq.write(test_pickle, 'pickle')\n",
    "    test_seq_new = sequence.Sequence.create(test_pickle, 'pickle')\n",
    "\n",
    "    assert test_seq.seq == test_seq_new.seq\n",
    "\n",
    "    test_repeat = repeat.Repeat(msa = TEST_REPEAT_MSA_DOUBLE)\n",
    "    test_hmm = HMM.create(input_format = 'repeat', repeat = test_repeat)\n",
    "    test_optimized_repeat = test_seq.detect([test_hmm])\n",
    "    test_seq.set_repeatlist(test_optimized_repeat, TEST_SEQUENCE_TAG)\n",
    "\n",
    "    assert type(test_optimized_repeat) == repeat_list.RepeatList\n",
    "    assert list(test_seq.d_repeatlist.keys()) == [TEST_SEQUENCE_TAG]\n",
    "    assert type(test_seq.d_repeatlist[TEST_SEQUENCE_TAG]) == repeat_list.RepeatList\n",
    "    assert test_seq.d_repeatlist[TEST_SEQUENCE_TAG].repeats\n",
    "\n",
    "    test_retrieved_repeatlist = test_seq.get_repeatlist(TEST_SEQUENCE_TAG)\n",
    "    assert test_retrieved_repeatlist == test_optimized_repeat\n",
    "\n",
    "    test_seq.write(test_pickle, 'pickle')\n",
    "    test_seq_new = sequence.Sequence.create(test_pickle, 'pickle')\n",
    "\n",
    "    assert test_seq.d_repeatlist.keys() == test_seq_new.d_repeatlist.keys()\n",
    "    assert test_seq.d_repeatlist[TEST_SEQUENCE_TAG].repeats[0].msa == test_seq_new.d_repeatlist[TEST_SEQUENCE_TAG].repeats[0].msa\n",
    "\n",
    "    if os.path.exists(test_pickle):\n",
    "        os.remove(test_pickle)\n"
   ]
  },
  {
   "cell_type": "code",
   "execution_count": null,
   "metadata": {},
   "outputs": [],
   "source": []
  },
  {
   "cell_type": "code",
   "execution_count": null,
   "metadata": {},
   "outputs": [],
   "source": []
  },
  {
   "cell_type": "code",
   "execution_count": null,
   "metadata": {},
   "outputs": [],
   "source": []
  }
 ],
 "metadata": {
  "kernelspec": {
   "display_name": "Python 3",
   "language": "python",
   "name": "python3"
  },
  "language_info": {
   "codemirror_mode": {
    "name": "ipython",
    "version": 3
   },
   "file_extension": ".py",
   "mimetype": "text/x-python",
   "name": "python",
   "nbconvert_exporter": "python",
   "pygments_lexer": "ipython3",
   "version": "3.7.0"
  }
 },
 "nbformat": 4,
 "nbformat_minor": 2
}
