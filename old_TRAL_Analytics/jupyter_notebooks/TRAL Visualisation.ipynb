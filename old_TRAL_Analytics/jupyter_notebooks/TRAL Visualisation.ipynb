{
 "cells": [
  {
   "cell_type": "code",
   "execution_count": 8,
   "metadata": {},
   "outputs": [],
   "source": [
    "import sys\n",
    "import os\n",
    "import pickle\n",
    "\n",
    "from pyfaidx import Fasta\n",
    "\n",
    "import logging\n",
    "import logging.config\n",
    "\n",
    "from tral.paths import config_file, PACKAGE_DIRECTORY\n",
    "from tral import configuration\n",
    "from tral.sequence import sequence\n",
    "from tral.hmm import hmm\n",
    "\n",
    "logging.config.fileConfig(config_file(\"logging.ini\"))\n",
    "log = logging.getLogger('root')\n",
    "\n",
    "# define this as in the config\n",
    "CONFIG_GENERAL = configuration.Configuration.instance().config\n",
    "CONFIG = CONFIG_GENERAL[\"repeat_list\"]\n",
    "score = CONFIG[\"model\"]"
   ]
  },
  {
   "cell_type": "code",
   "execution_count": 38,
   "metadata": {},
   "outputs": [],
   "source": [
    "sys.path.append(\"/home/lina/tral-visualizer/tral-visualization/tralvisualizer\")"
   ]
  },
  {
   "cell_type": "code",
   "execution_count": 2,
   "metadata": {},
   "outputs": [],
   "source": [
    "## AA reference\n",
    "working_dir = \"/home/lina/Desktop/TRAL_Masterthesis/references/Uniprot_data/proteom/pickles\"\n",
    "sequences_path = \"/home/lina/Desktop/TRAL_Masterthesis/references/Uniprot_data/proteom\"\n",
    "output_path = \"/home/lina/SynologyDrive/TRAL_Masterthesis/TRAL_Pipeline_Analytics/test_output/proteom\"\n",
    "\n",
    "# set_file = \"AUP000005640_Mitochondrion.fasta\"\n",
    "set_file = \"AUP000005640_Chromosome21.fasta\"\n",
    "set_name = set_file.split(\".fasta\")[0]\n",
    "sequences_file = os.path.join(sequences_path, set_file)\n",
    "result_dir = os.path.join(output_path, set_name)\n"
   ]
  },
  {
   "cell_type": "code",
   "execution_count": 7,
   "metadata": {},
   "outputs": [],
   "source": [
    "proteins = Fasta(sequences_file)\n",
    "\n",
    "number_proteins = 0\n",
    "number_TR_proteins = 0\n",
    "number_TRs = 0\n",
    "\n",
    "for pyfaidx in proteins:\n",
    "    number_proteins += 1\n",
    "    seq_name = pyfaidx.name.split(\"|\")[1]\n",
    "\n",
    "    output_pickle_file = os.path.join(result_dir, seq_name + \".pkl\")\n",
    "    output_tsv_file = os.path.join(result_dir, seq_name + \".tsv\")\n",
    "\n",
    "    if os.path.exists(output_pickle_file) and os.path.exists(output_tsv_file):\n",
    "        with open(output_pickle_file,'rb') as f: \n",
    "            denovo_list_remastered = pickle.load(f)\n",
    "\n",
    "    if len(denovo_list_remastered.repeats) > 0:\n",
    "        number_TR_proteins += 1\n",
    "        number_TRs += len(denovo_list_remastered.repeats)"
   ]
  },
  {
   "cell_type": "code",
   "execution_count": 22,
   "metadata": {},
   "outputs": [
    {
     "data": {
      "text/plain": [
       "['/home/lina/anaconda3/envs/test_tral/lib/python3.7/site-packages/spyder/utils/help',\n",
       " '',\n",
       " '/home/lina/SynologyDrive/TRAL_Masterthesis/TRAL_Pipeline_Analytics/old_TRAL_Analytics/jupyter_notebooks',\n",
       " '/home/lina/anaconda3/envs/test_tral/lib/python37.zip',\n",
       " '/home/lina/anaconda3/envs/test_tral/lib/python3.7',\n",
       " '/home/lina/anaconda3/envs/test_tral/lib/python3.7/lib-dynload',\n",
       " '/home/lina/anaconda3/envs/test_tral/lib/python3.7/site-packages',\n",
       " '/home/lina/anaconda3/envs/test_tral/lib/python3.7/site-packages/IPython/extensions',\n",
       " '/home/lina/.ipython',\n",
       " '/home/lina/anaconda3/envs/test_tral/lib/python3.7/site-packages/astroid/brain']"
      ]
     },
     "execution_count": 22,
     "metadata": {},
     "output_type": "execute_result"
    }
   ],
   "source": [
    "sys.path"
   ]
  },
  {
   "cell_type": "code",
   "execution_count": 46,
   "metadata": {
    "scrolled": true
   },
   "outputs": [
    {
     "ename": "ModuleNotFoundError",
     "evalue": "No module named 'reportlab'",
     "output_type": "error",
     "traceback": [
      "\u001b[0;31m---------------------------------------------------------------------------\u001b[0m",
      "\u001b[0;31mModuleNotFoundError\u001b[0m                       Traceback (most recent call last)",
      "\u001b[0;32m<ipython-input-46-a062871e7823>\u001b[0m in \u001b[0;36m<module>\u001b[0;34m\u001b[0m\n\u001b[1;32m      1\u001b[0m \u001b[0;31m#from tralvisualizer.repeatdiagram import RepeatDiagram, show_hmm_state\u001b[0m\u001b[0;34m\u001b[0m\u001b[0;34m\u001b[0m\u001b[0;34m\u001b[0m\u001b[0m\n\u001b[1;32m      2\u001b[0m \u001b[0;32mimport\u001b[0m \u001b[0mhmmlogo\u001b[0m\u001b[0;34m\u001b[0m\u001b[0;34m\u001b[0m\u001b[0m\n\u001b[0;32m----> 3\u001b[0;31m \u001b[0;32mimport\u001b[0m \u001b[0mrepeatdiagram\u001b[0m\u001b[0;34m\u001b[0m\u001b[0;34m\u001b[0m\u001b[0m\n\u001b[0m\u001b[1;32m      4\u001b[0m \u001b[0;31m#from tral.hmm import hmm, hmm_viterbi #, hmm_io,\u001b[0m\u001b[0;34m\u001b[0m\u001b[0;34m\u001b[0m\u001b[0;34m\u001b[0m\u001b[0m\n\u001b[1;32m      5\u001b[0m \u001b[0;31m#from tral.sequence import sequence\u001b[0m\u001b[0;34m\u001b[0m\u001b[0;34m\u001b[0m\u001b[0;34m\u001b[0m\u001b[0m\n",
      "\u001b[0;32m~/SynologyDrive/TRAL_Masterthesis/TRAL_Pipeline_Analytics/old_TRAL_Analytics/jupyter_notebooks/repeatdiagram.py\u001b[0m in \u001b[0;36m<module>\u001b[0;34m\u001b[0m\n\u001b[1;32m      9\u001b[0m \u001b[0;32mimport\u001b[0m \u001b[0mmath\u001b[0m\u001b[0;34m\u001b[0m\u001b[0;34m\u001b[0m\u001b[0m\n\u001b[1;32m     10\u001b[0m \u001b[0;32mimport\u001b[0m \u001b[0mre\u001b[0m\u001b[0;34m\u001b[0m\u001b[0;34m\u001b[0m\u001b[0m\n\u001b[0;32m---> 11\u001b[0;31m \u001b[0;32mfrom\u001b[0m \u001b[0mreportlab\u001b[0m\u001b[0;34m.\u001b[0m\u001b[0mlib\u001b[0m \u001b[0;32mimport\u001b[0m \u001b[0mcolors\u001b[0m\u001b[0;34m\u001b[0m\u001b[0;34m\u001b[0m\u001b[0m\n\u001b[0m\u001b[1;32m     12\u001b[0m \u001b[0;32mfrom\u001b[0m \u001b[0mBio\u001b[0m\u001b[0;34m.\u001b[0m\u001b[0mGraphics\u001b[0m \u001b[0;32mimport\u001b[0m \u001b[0mGenomeDiagram\u001b[0m\u001b[0;34m\u001b[0m\u001b[0;34m\u001b[0m\u001b[0m\n\u001b[1;32m     13\u001b[0m \u001b[0;32mfrom\u001b[0m \u001b[0mBio\u001b[0m\u001b[0;34m.\u001b[0m\u001b[0mSeqFeature\u001b[0m \u001b[0;32mimport\u001b[0m \u001b[0mSeqFeature\u001b[0m\u001b[0;34m,\u001b[0m \u001b[0mFeatureLocation\u001b[0m\u001b[0;34m\u001b[0m\u001b[0;34m\u001b[0m\u001b[0m\n",
      "\u001b[0;31mModuleNotFoundError\u001b[0m: No module named 'reportlab'"
     ]
    }
   ],
   "source": [
    "#from tralvisualizer.repeatdiagram import RepeatDiagram, show_hmm_state\n",
    "import hmmlogo\n",
    "import repeatdiagram\n",
    "#from tral.hmm import hmm, hmm_viterbi #, hmm_io, \n",
    "#from tral.sequence import sequence\n",
    "#import Bio\n",
    "#from Bio import SeqIO\n",
    "\n",
    "\n"
   ]
  },
  {
   "cell_type": "code",
   "execution_count": 44,
   "metadata": {},
   "outputs": [
    {
     "name": "stdout",
     "output_type": "stream",
     "text": [
      "Requirement already satisfied: reportlab in /home/lina/anaconda3/envs/test_tral/lib/python3.7/site-packages/reportlab-3.5.12-py3.7-linux-x86_64.egg (3.5.12)\r\n",
      "Requirement already satisfied: pillow>=4.0.0 in /home/lina/anaconda3/envs/test_tral/lib/python3.7/site-packages/Pillow-5.4.1-py3.7-linux-x86_64.egg (from reportlab) (5.4.1)\r\n"
     ]
    }
   ],
   "source": [
    "!pip install reportlab"
   ]
  },
  {
   "cell_type": "code",
   "execution_count": null,
   "metadata": {},
   "outputs": [],
   "source": []
  }
 ],
 "metadata": {
  "kernelspec": {
   "display_name": "Python 3",
   "language": "python",
   "name": "python3"
  },
  "language_info": {
   "codemirror_mode": {
    "name": "ipython",
    "version": 3
   },
   "file_extension": ".py",
   "mimetype": "text/x-python",
   "name": "python",
   "nbconvert_exporter": "python",
   "pygments_lexer": "ipython3",
   "version": "3.7.1"
  }
 },
 "nbformat": 4,
 "nbformat_minor": 2
}
