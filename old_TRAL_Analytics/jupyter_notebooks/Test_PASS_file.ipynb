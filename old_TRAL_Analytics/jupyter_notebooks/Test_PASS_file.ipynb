{
 "cells": [
  {
   "cell_type": "code",
   "execution_count": null,
   "metadata": {},
   "outputs": [],
   "source": [
    "import os\n",
    "from tral.sequence import sequence\n",
    "from tral.paths import PACKAGE_DIRECTORY\n",
    "\n",
    "contigs1 = \"/home/lina/SynologyDrive/TRAL_Masterthesis/IBM/Assembled_genes/0dc41cd5-0672-407c-9b4a-0f5f3970aa54/blood_derived_normal/MLH1.fasta\"\n",
    "contigs2 = \"/home/lina/SynologyDrive/TRAL_Masterthesis/IBM/Assembled_genes/0dc41cd5-0672-407c-9b4a-0f5f3970aa54/primary_tumor/MLH1.fasta\"\n",
    "\n",
    "sequences1 = sequence.Sequence.create(file = contigs1, input_format = 'fasta')\n",
    "sequences2 = sequence.Sequence.create(file = contigs2, input_format = 'fasta')"
   ]
  },
  {
   "cell_type": "code",
   "execution_count": null,
   "metadata": {
    "scrolled": true
   },
   "outputs": [],
   "source": [
    "%%timeit\n",
    "for iSequence in sequences2:\n",
    "    iTandem_repeats = iSequence.detect(denovo = True)\n",
    "    iSequence.set_repeatlist(iTandem_repeats, \"denovo\")"
   ]
  },
  {
   "cell_type": "code",
   "execution_count": null,
   "metadata": {},
   "outputs": [],
   "source": []
  },
  {
   "cell_type": "code",
   "execution_count": 3,
   "metadata": {},
   "outputs": [
    {
     "data": {
      "text/plain": [
       "0"
      ]
     },
     "execution_count": 3,
     "metadata": {},
     "output_type": "execute_result"
    }
   ],
   "source": [
    "len([i for j in sequences for i in j.get_repeatlist('denovo').repeats if i.TRD == \"T-REKS\"])"
   ]
  },
  {
   "cell_type": "code",
   "execution_count": 18,
   "metadata": {},
   "outputs": [
    {
     "data": {
      "text/plain": [
       "33"
      ]
     },
     "execution_count": 18,
     "metadata": {},
     "output_type": "execute_result"
    }
   ],
   "source": [
    "len([i for j in sequences for i in j.get_repeatlist('denovo').repeats if i.TRD == \"XSTREAM\"])"
   ]
  },
  {
   "cell_type": "code",
   "execution_count": 24,
   "metadata": {},
   "outputs": [
    {
     "name": "stdout",
     "output_type": "stream",
     "text": [
      "> begin:3 l_effective:4 n:2\n",
      "PLSK\n",
      "PLSS\n",
      "> begin:6 l_effective:4 n:2\n",
      "PLSK\n",
      "PLSS\n",
      "> begin:17 l_effective:4 n:2\n",
      "PLSK\n",
      "PLSS\n",
      "> begin:3 l_effective:4 n:2\n",
      "PLSK\n",
      "PLSS\n",
      "> begin:9 l_effective:4 n:2\n",
      "PLSK\n",
      "PLSS\n",
      "> begin:1 l_effective:4 n:2\n",
      "PLSK\n",
      "PLSS\n",
      "> begin:23 l_effective:4 n:2\n",
      "PLSN\n",
      "PLSS\n",
      "> begin:1 l_effective:4 n:3\n",
      "QPL-S\n",
      "KPLSS\n",
      "QP---\n",
      "> begin:7 l_effective:4 n:2\n",
      "PLSK\n",
      "PLSS\n",
      "> begin:18 l_effective:4 n:2\n",
      "PLSK\n",
      "PLSS\n",
      "> begin:4 l_effective:4 n:2\n",
      "PLSK\n",
      "PLSS\n",
      "> begin:5 l_effective:4 n:2\n",
      "PLSK\n",
      "PLSS\n",
      "> begin:1 l_effective:4 n:2\n",
      "PLSK\n",
      "PLSS\n",
      "> begin:26 l_effective:4 n:2\n",
      "PLSK\n",
      "PLSS\n",
      "> begin:4 l_effective:4 n:2\n",
      "PLSK\n",
      "PLSS\n",
      "> begin:3 l_effective:4 n:2\n",
      "PLSK\n",
      "PLSS\n",
      "> begin:1 l_effective:4 n:3\n",
      "QPL-S\n",
      "KPLSS\n",
      "QP---\n",
      "> begin:7 l_effective:4 n:2\n",
      "PLSK\n",
      "PLSS\n",
      "> begin:5 l_effective:4 n:2\n",
      "PLSK\n",
      "PLSS\n",
      "> begin:11 l_effective:4 n:2\n",
      "PLSK\n",
      "PLSS\n",
      "> begin:3 l_effective:4 n:2\n",
      "PLSK\n",
      "PLSS\n",
      "> begin:7 l_effective:4 n:2\n",
      "PLSK\n",
      "PLSS\n",
      "> begin:6 l_effective:4 n:2\n",
      "PLSK\n",
      "PLSS\n",
      "> begin:12 l_effective:4 n:2\n",
      "PLSK\n",
      "PLSS\n",
      "> begin:1 l_effective:4 n:3\n",
      "QPL-S\n",
      "KPLSS\n",
      "QP---\n",
      "> begin:11 l_effective:4 n:2\n",
      "PLSK\n",
      "PLSS\n",
      "> begin:1 l_effective:4 n:3\n",
      "QPL-S\n",
      "KPLSS\n",
      "QP---\n",
      "> begin:13 l_effective:4 n:2\n",
      "PLSK\n",
      "PLSS\n",
      "> begin:23 l_effective:4 n:3\n",
      "EGPK\n",
      "EGPA\n",
      "E---\n",
      "> begin:7 l_effective:4 n:2\n",
      "PLSK\n",
      "PLSS\n",
      "> begin:1 l_effective:4 n:3\n",
      "QPL-S\n",
      "KPLSS\n",
      "QP---\n",
      "> begin:6 l_effective:4 n:2\n",
      "PLSK\n",
      "PLSS\n"
     ]
    }
   ],
   "source": [
    "for x in range(32):\n",
    "    print([i for j in sequences for i in j.get_repeatlist('denovo').repeats if i.TRD == \"XSTREAM\"][x])"
   ]
  },
  {
   "cell_type": "code",
   "execution_count": 19,
   "metadata": {},
   "outputs": [
    {
     "ename": "IndexError",
     "evalue": "list index out of range",
     "output_type": "error",
     "traceback": [
      "\u001b[0;31m---------------------------------------------------------------------------\u001b[0m",
      "\u001b[0;31mIndexError\u001b[0m                                Traceback (most recent call last)",
      "\u001b[0;32m<ipython-input-19-09813d894ad2>\u001b[0m in \u001b[0;36m<module>\u001b[0;34m\u001b[0m\n\u001b[0;32m----> 1\u001b[0;31m \u001b[0mprint\u001b[0m\u001b[0;34m(\u001b[0m\u001b[0;34m[\u001b[0m\u001b[0mi\u001b[0m \u001b[0;32mfor\u001b[0m \u001b[0mj\u001b[0m \u001b[0;32min\u001b[0m \u001b[0msequences\u001b[0m\u001b[0;34m[\u001b[0m\u001b[0;36m1\u001b[0m\u001b[0;34m]\u001b[0m\u001b[0;34m.\u001b[0m\u001b[0mget_repeatlist\u001b[0m\u001b[0;34m(\u001b[0m\u001b[0;34m'denovo'\u001b[0m\u001b[0;34m)\u001b[0m\u001b[0;34m.\u001b[0m\u001b[0mrepeats\u001b[0m \u001b[0;32mif\u001b[0m \u001b[0mi\u001b[0m\u001b[0;34m.\u001b[0m\u001b[0mTRD\u001b[0m \u001b[0;34m==\u001b[0m \u001b[0;34m\"T-REKS\"\u001b[0m\u001b[0;34m]\u001b[0m\u001b[0;34m[\u001b[0m\u001b[0;36m0\u001b[0m\u001b[0;34m]\u001b[0m\u001b[0;34m)\u001b[0m\u001b[0;34m\u001b[0m\u001b[0m\n\u001b[0m",
      "\u001b[0;31mIndexError\u001b[0m: list index out of range"
     ]
    }
   ],
   "source": [
    "print([i for j in sequences[1].get_repeatlist('denovo').repeats if i.TRD == \"T-REKS\"][0])"
   ]
  },
  {
   "cell_type": "code",
   "execution_count": 16,
   "metadata": {
    "scrolled": true
   },
   "outputs": [
    {
     "ename": "NameError",
     "evalue": "name 'j' is not defined",
     "output_type": "error",
     "traceback": [
      "\u001b[0;31m---------------------------------------------------------------------------\u001b[0m",
      "\u001b[0;31mNameError\u001b[0m                                 Traceback (most recent call last)",
      "\u001b[0;32m<ipython-input-16-1c2bf7073dd3>\u001b[0m in \u001b[0;36m<module>\u001b[0;34m\u001b[0m\n\u001b[0;32m----> 1\u001b[0;31m \u001b[0mprint\u001b[0m\u001b[0;34m(\u001b[0m\u001b[0;34m[\u001b[0m\u001b[0mi\u001b[0m \u001b[0;32mfor\u001b[0m \u001b[0mi\u001b[0m \u001b[0;32min\u001b[0m \u001b[0msequences\u001b[0m \u001b[0;32mfor\u001b[0m \u001b[0mi\u001b[0m \u001b[0;32min\u001b[0m \u001b[0mj\u001b[0m\u001b[0;34m.\u001b[0m\u001b[0mget_repeatlist\u001b[0m\u001b[0;34m(\u001b[0m\u001b[0;34m'denovo'\u001b[0m\u001b[0;34m)\u001b[0m\u001b[0;34m.\u001b[0m\u001b[0mrepeats\u001b[0m \u001b[0;32mif\u001b[0m \u001b[0mi\u001b[0m\u001b[0;34m.\u001b[0m\u001b[0mTRD\u001b[0m \u001b[0;34m==\u001b[0m \u001b[0;34m\"XSTREAM\"\u001b[0m\u001b[0;34m]\u001b[0m\u001b[0;34m)\u001b[0m\u001b[0;34m\u001b[0m\u001b[0m\n\u001b[0m",
      "\u001b[0;32m<ipython-input-16-1c2bf7073dd3>\u001b[0m in \u001b[0;36m<listcomp>\u001b[0;34m(.0)\u001b[0m\n\u001b[0;32m----> 1\u001b[0;31m \u001b[0mprint\u001b[0m\u001b[0;34m(\u001b[0m\u001b[0;34m[\u001b[0m\u001b[0mi\u001b[0m \u001b[0;32mfor\u001b[0m \u001b[0mi\u001b[0m \u001b[0;32min\u001b[0m \u001b[0msequences\u001b[0m \u001b[0;32mfor\u001b[0m \u001b[0mi\u001b[0m \u001b[0;32min\u001b[0m \u001b[0mj\u001b[0m\u001b[0;34m.\u001b[0m\u001b[0mget_repeatlist\u001b[0m\u001b[0;34m(\u001b[0m\u001b[0;34m'denovo'\u001b[0m\u001b[0;34m)\u001b[0m\u001b[0;34m.\u001b[0m\u001b[0mrepeats\u001b[0m \u001b[0;32mif\u001b[0m \u001b[0mi\u001b[0m\u001b[0;34m.\u001b[0m\u001b[0mTRD\u001b[0m \u001b[0;34m==\u001b[0m \u001b[0;34m\"XSTREAM\"\u001b[0m\u001b[0;34m]\u001b[0m\u001b[0;34m)\u001b[0m\u001b[0;34m\u001b[0m\u001b[0m\n\u001b[0m",
      "\u001b[0;31mNameError\u001b[0m: name 'j' is not defined"
     ]
    }
   ],
   "source": [
    "print([i for i in sequences for i in j.get_repeatlist('denovo').repeats if i.TRD == \"XSTREAM\"])"
   ]
  },
  {
   "cell_type": "code",
   "execution_count": 11,
   "metadata": {},
   "outputs": [],
   "source": [
    "tandem_repeats = sequences[0].detect(denovo = True, detection = {\"detectors\": [\"XSTREAM\"]})"
   ]
  },
  {
   "cell_type": "code",
   "execution_count": 14,
   "metadata": {},
   "outputs": [
    {
     "ename": "IndexError",
     "evalue": "list index out of range",
     "output_type": "error",
     "traceback": [
      "\u001b[0;31m---------------------------------------------------------------------------\u001b[0m",
      "\u001b[0;31mIndexError\u001b[0m                                Traceback (most recent call last)",
      "\u001b[0;32m<ipython-input-14-c2756ce9dd40>\u001b[0m in \u001b[0;36m<module>\u001b[0;34m\u001b[0m\n\u001b[0;32m----> 1\u001b[0;31m \u001b[0mprint\u001b[0m\u001b[0;34m(\u001b[0m\u001b[0;34m[\u001b[0m\u001b[0mi\u001b[0m \u001b[0;32mfor\u001b[0m \u001b[0mi\u001b[0m \u001b[0;32min\u001b[0m \u001b[0msequences\u001b[0m\u001b[0;34m[\u001b[0m\u001b[0;36m1\u001b[0m\u001b[0;34m]\u001b[0m\u001b[0;34m.\u001b[0m\u001b[0mget_repeatlist\u001b[0m\u001b[0;34m(\u001b[0m\u001b[0;34m'denovo'\u001b[0m\u001b[0;34m)\u001b[0m\u001b[0;34m.\u001b[0m\u001b[0mrepeats\u001b[0m \u001b[0;32mif\u001b[0m \u001b[0mi\u001b[0m\u001b[0;34m.\u001b[0m\u001b[0mTRD\u001b[0m \u001b[0;34m==\u001b[0m \u001b[0;34m\"XSTREAM\"\u001b[0m\u001b[0;34m]\u001b[0m\u001b[0;34m[\u001b[0m\u001b[0;36m0\u001b[0m\u001b[0;34m]\u001b[0m\u001b[0;34m)\u001b[0m\u001b[0;34m\u001b[0m\u001b[0m\n\u001b[0m",
      "\u001b[0;31mIndexError\u001b[0m: list index out of range"
     ]
    }
   ],
   "source": [
    "print([i for i in sequences[1].get_repeatlist('denovo').repeats if i.TRD == \"XSTREAM\"][0])"
   ]
  }
 ],
 "metadata": {
  "kernelspec": {
   "display_name": "Python 3",
   "language": "python",
   "name": "python3"
  },
  "language_info": {
   "codemirror_mode": {
    "name": "ipython",
    "version": 3
   },
   "file_extension": ".py",
   "mimetype": "text/x-python",
   "name": "python",
   "nbconvert_exporter": "python",
   "pygments_lexer": "ipython3",
   "version": "3.7.0"
  }
 },
 "nbformat": 4,
 "nbformat_minor": 2
}
