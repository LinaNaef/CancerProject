{
 "cells": [
  {
   "cell_type": "markdown",
   "metadata": {},
   "source": [
    "Here you learn how to perform statistical significance tests on your candidate set of tandem repeats. TRAL currently provides a variety of model-based and none-model based tests. They are detailed in a NAR publication (2012).\n",
    "\n",
    "Requirements for this tutorial:\n",
    "\n",
    "- Install TRAL. TRAL ships with the sequence data needed for this tutorial.\n",
    "- Download p-Value distribution files."
   ]
  },
  {
   "cell_type": "markdown",
   "metadata": {},
   "source": [
    "## Read in tandem repeat annotations."
   ]
  },
  {
   "cell_type": "code",
   "execution_count": 1,
   "metadata": {},
   "outputs": [],
   "source": [
    "import os, pickle\n",
    "from tral import sequence\n",
    "from tral.paths import PACKAGE_DIRECTORY\n",
    "\n",
    "fRepeat_Pickle = os.path.join(PACKAGE_DIRECTORY,\"examples\", \"data\", \"HIV-1_388796.pickle\")\n",
    "\n",
    "with open(fRepeat_Pickle, 'rb') as fh:\n",
    "    lHIV_Sequence = pickle.load(fh)\n",
    "\n"
   ]
  },
  {
   "cell_type": "markdown",
   "metadata": {},
   "source": [
    "There are nine proteins in the HIV proteome:"
   ]
  },
  {
   "cell_type": "code",
   "execution_count": 2,
   "metadata": {},
   "outputs": [
    {
     "data": {
      "text/plain": [
       "9"
      ]
     },
     "execution_count": 2,
     "metadata": {},
     "output_type": "execute_result"
    }
   ],
   "source": [
    "len(lHIV_Sequence)"
   ]
  },
  {
   "cell_type": "markdown",
   "metadata": {},
   "source": [
    "## Perform a statistical significance test.\n",
    "\n",
    "Calculate the statistical score on the ‘denovo’ repeat_list, and the corresponding p-Value with parameters defined in the configuration file:"
   ]
  },
  {
   "cell_type": "code",
   "execution_count": 3,
   "metadata": {},
   "outputs": [],
   "source": [
    "for iSequence in lHIV_Sequence:\n",
    "    for iTandemRepeat in iSequence.get_repeatlist('denovo').repeats:\n",
    "        iTandemRepeat.calculate_pvalues()"
   ]
  },
  {
   "cell_type": "markdown",
   "metadata": {},
   "source": [
    "For example, the following putative tandem repeat is found to be non-significant with the used model of tandem repeat evolution (interpretation):"
   ]
  },
  {
   "cell_type": "code",
   "execution_count": 4,
   "metadata": {
    "scrolled": true
   },
   "outputs": [
    {
     "name": "stdout",
     "output_type": "stream",
     "text": [
      "> begin:94 l_effective:7 n:2 pvalue:1.0 divergence:1.656005859375 type:phylo_gap01\n",
      "EKGGLEGLIYSKKRQE\n",
      "---ILDLWVY------\n"
     ]
    }
   ],
   "source": [
    "print(lHIV_Sequence[2].get_repeatlist('denovo').repeats[0])"
   ]
  },
  {
   "cell_type": "markdown",
   "metadata": {},
   "source": [
    "Whereas this putative tandem repeat is considered significant:"
   ]
  },
  {
   "cell_type": "code",
   "execution_count": 5,
   "metadata": {
    "scrolled": true
   },
   "outputs": [
    {
     "name": "stdout",
     "output_type": "stream",
     "text": [
      "> begin:38 l_effective:2 n:6 pvalue:0.0 divergence:0.46649169922545164 type:phylo_gap01\n",
      "RRN\n",
      "RR-\n",
      "RRW\n",
      "RA-\n",
      "RQ-\n",
      "RQI\n"
     ]
    }
   ],
   "source": [
    "print(lHIV_Sequence[4].get_repeatlist('denovo').repeats[0])"
   ]
  },
  {
   "cell_type": "markdown",
   "metadata": {},
   "source": [
    "Besides, parameters can also be directly supplied to calculate_pvalues:"
   ]
  },
  {
   "cell_type": "code",
   "execution_count": 6,
   "metadata": {},
   "outputs": [],
   "source": [
    "for iSequence in lHIV_Sequence:\n",
    "    for iTandemRepeat in iSequence.get_repeatlist('denovo').repeats:\n",
    "        iTandemRepeat.calculate_pvalues(scoreslist=['phylo_gap001'])"
   ]
  },
  {
   "cell_type": "markdown",
   "metadata": {},
   "source": [
    "## Filter tandem repeat below a significance threshold."
   ]
  },
  {
   "cell_type": "code",
   "execution_count": 7,
   "metadata": {},
   "outputs": [],
   "source": [
    "for iSequence in lHIV_Sequence:\n",
    "    repeat_list = iSequence.get_repeatlist('denovo')\n",
    "    if repeat_list:\n",
    "        repeat_list_filtered = repeat_list.filter(func_name = \"pvalue\", score = \"phylo_gap01\", threshold = 0.05)\n",
    "        iSequence.set_repeatlist(repeat_list_filtered, \"denovo_filtered\")"
   ]
  },
  {
   "cell_type": "markdown",
   "metadata": {},
   "source": [
    "The resulting result_list now only contains tandem repeats with a p-Value below 0.05, and is shorter than the original tandem repeat list:"
   ]
  },
  {
   "cell_type": "code",
   "execution_count": 8,
   "metadata": {},
   "outputs": [
    {
     "data": {
      "text/plain": [
       "28"
      ]
     },
     "execution_count": 8,
     "metadata": {},
     "output_type": "execute_result"
    }
   ],
   "source": [
    "len([iR for iS in lHIV_Sequence for iR in iS.get_repeatlist('denovo').repeats])"
   ]
  },
  {
   "cell_type": "code",
   "execution_count": 9,
   "metadata": {},
   "outputs": [
    {
     "data": {
      "text/plain": [
       "20"
      ]
     },
     "execution_count": 9,
     "metadata": {},
     "output_type": "execute_result"
    }
   ],
   "source": [
    "len([iR for iS in lHIV_Sequence for iR in iS.get_repeatlist('denovo_filtered').repeats])\n",
    "20"
   ]
  },
  {
   "cell_type": "markdown",
   "metadata": {},
   "source": [
    "## Available significance tests\n",
    "\n",
    "The model based scores are generally described in our NAR publication, 2012. Briefly, the sequences evolution is assumed to be described by the LG matrix.\n",
    "\n",
    "Further, the models can be distinguished by how gaps are handled:\n",
    "\n",
    "- ‘phylo’: Gaps are treated as characters.\n",
    "\n",
    "Gaps can also assumed to be inserted with exponentially distributed waiting times and Zipfian distributed indel lengths:\n",
    "\n",
    "- ‘phylo_gap01’, ‘phylo_gap01_ignore_trailing_gaps’, ‘phylo_gap01_ignore_coherent_deletions’, ‘phylo_gap01_ignore_trailing_gaps_and_coherent_deletions’: Gaps are modelled, and assumed to mutation at at 0.1 times lower rate compared to substitutions.\n",
    "- ‘phylo_gap001’, ‘phylo_gap001_ignore_trailing_gaps’, ‘phylo_gap001_ignore_coherent_deletions’, ‘phylo_gap001_ignore_trailing_gaps_and_coherent_deletions’: Gaps are modelled, and assumed to mutation at at 0.01 times lower rate compared to substitutions.\n",
    "- ignore_trailing_gaps signifies that gaps before the first tandem repeat unit and after the last tandem repeat unit are not penalised.\n",
    "- coherent_deletions signifies that gaps of the same length and position within the alignment of tandem repeat units are penalised only once.\n",
    "\n",
    "Among the three ad hoc scores are ‘entropy’, ‘parsimony’, and ‘pSim’ scores (see our NAR publication, 2012)."
   ]
  }
 ],
 "metadata": {
  "kernelspec": {
   "display_name": "Python 3",
   "language": "python",
   "name": "python3"
  },
  "language_info": {
   "codemirror_mode": {
    "name": "ipython",
    "version": 3
   },
   "file_extension": ".py",
   "mimetype": "text/x-python",
   "name": "python",
   "nbconvert_exporter": "python",
   "pygments_lexer": "ipython3",
   "version": "3.7.0"
  }
 },
 "nbformat": 4,
 "nbformat_minor": 2
}
