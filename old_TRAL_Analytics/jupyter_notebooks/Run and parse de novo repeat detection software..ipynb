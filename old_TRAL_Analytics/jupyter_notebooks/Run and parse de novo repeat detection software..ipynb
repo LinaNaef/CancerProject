{
 "cells": [
  {
   "cell_type": "markdown",
   "metadata": {},
   "source": [
    "Here you learn how to run external repeat detection software on your favourite sequence file and output the results.\n",
    "\n",
    "Requirements for this tutorial:\n",
    "\n",
    "- Install TRAL. TRAL ships with the data needed for this tutorial.\n",
    "- Install XSTREAM. You can also install one or more other tandem repeat detectors instead."
   ]
  },
  {
   "cell_type": "markdown",
   "metadata": {},
   "source": [
    "## Read in your sequences."
   ]
  },
  {
   "cell_type": "code",
   "execution_count": 2,
   "metadata": {},
   "outputs": [],
   "source": [
    "import os\n",
    "from tral.sequence import sequence\n",
    "from tral.paths import PACKAGE_DIRECTORY\n",
    "\n",
    "proteome_HIV = os.path.join(PACKAGE_DIRECTORY, \"examples\", \"data\", \"HIV-1_388796.faa\")\n",
    "sequences_HIV = sequence.Sequence.create(file = proteome_HIV, input_format = 'fasta')"
   ]
  },
  {
   "cell_type": "markdown",
   "metadata": {},
   "source": [
    "## Run the external repeat detector.\n",
    "\n",
    "Detect tandem repeats on a single sequence with TREKS."
   ]
  },
  {
   "cell_type": "code",
   "execution_count": 3,
   "metadata": {},
   "outputs": [],
   "source": [
    "tandem_repeats = sequences_HIV[0].detect(denovo = True, detection = {\"detectors\": [\"T-REKS\"]})"
   ]
  },
  {
   "cell_type": "markdown",
   "metadata": {},
   "source": [
    "As an example, the first detected putative tandem repeat looks as follows (interpretation):"
   ]
  },
  {
   "cell_type": "code",
   "execution_count": 5,
   "metadata": {
    "scrolled": false
   },
   "outputs": [
    {
     "name": "stdout",
     "output_type": "stream",
     "text": [
      "> begin:385 l_effective:7 n:2\n",
      "LFNSTKLE\n",
      "LFNSST-N\n"
     ]
    }
   ],
   "source": [
    "print(tandem_repeats.repeats[0])"
   ]
  },
  {
   "cell_type": "markdown",
   "metadata": {},
   "source": [
    "Detect tandem repeats on a single sequence with XSTREAM: (works now!!)"
   ]
  },
  {
   "cell_type": "code",
   "execution_count": 6,
   "metadata": {},
   "outputs": [],
   "source": [
    "tandem_repeats = sequences_HIV[0].detect(denovo = True, detection = {\"detectors\": [\"XSTREAM\"]})"
   ]
  },
  {
   "cell_type": "code",
   "execution_count": 7,
   "metadata": {},
   "outputs": [
    {
     "name": "stdout",
     "output_type": "stream",
     "text": [
      "> begin:316 l_effective:4 n:2\n",
      "GDII\n",
      "GDIR\n"
     ]
    }
   ],
   "source": [
    "print(tandem_repeats.repeats[0])"
   ]
  },
  {
   "cell_type": "markdown",
   "metadata": {},
   "source": [
    "Detect tandem repeats on all sequences with all de novo tandem repeat detection algorithms defined in the configuration file:"
   ]
  },
  {
   "cell_type": "code",
   "execution_count": 8,
   "metadata": {},
   "outputs": [],
   "source": [
    "for iSequence in sequences_HIV:\n",
    "    iTandem_repeats = iSequence.detect(denovo = True)\n",
    "    iSequence.set_repeatlist(iTandem_repeats, \"denovo\")"
   ]
  },
  {
   "cell_type": "code",
   "execution_count": 9,
   "metadata": {},
   "outputs": [
    {
     "ename": "Exception",
     "evalue": "The lHMM value is not a list.",
     "output_type": "error",
     "traceback": [
      "\u001b[0;31m---------------------------------------------------------------------------\u001b[0m",
      "\u001b[0;31mException\u001b[0m                                 Traceback (most recent call last)",
      "\u001b[0;32m<ipython-input-9-b22a530b473a>\u001b[0m in \u001b[0;36m<module>\u001b[0;34m\u001b[0m\n\u001b[1;32m      1\u001b[0m \u001b[0;32mfor\u001b[0m \u001b[0miSequence\u001b[0m \u001b[0;32min\u001b[0m \u001b[0msequences_HIV\u001b[0m\u001b[0;34m:\u001b[0m\u001b[0;34m\u001b[0m\u001b[0m\n\u001b[0;32m----> 2\u001b[0;31m     \u001b[0miTandem_repeats\u001b[0m \u001b[0;34m=\u001b[0m \u001b[0miSequence\u001b[0m\u001b[0;34m.\u001b[0m\u001b[0mdetect\u001b[0m\u001b[0;34m(\u001b[0m\u001b[0;34m\"/home/lina/Desktop/tral/tral/examples/data/Kelch_1.hmm\"\u001b[0m\u001b[0;34m)\u001b[0m\u001b[0;34m\u001b[0m\u001b[0m\n\u001b[0m\u001b[1;32m      3\u001b[0m \u001b[0;34m\u001b[0m\u001b[0m\n\u001b[1;32m      4\u001b[0m     \u001b[0;31m## how does this work??\u001b[0m\u001b[0;34m\u001b[0m\u001b[0;34m\u001b[0m\u001b[0m\n",
      "\u001b[0;32m~/SynologyDrive/tral/tral/sequence/sequence.py\u001b[0m in \u001b[0;36mdetect\u001b[0;34m(self, lHMM, denovo, **kwargs)\u001b[0m\n\u001b[1;32m    118\u001b[0m         \u001b[0;32mif\u001b[0m \u001b[0mlHMM\u001b[0m\u001b[0;34m:\u001b[0m\u001b[0;34m\u001b[0m\u001b[0m\n\u001b[1;32m    119\u001b[0m             \u001b[0;32mif\u001b[0m \u001b[0;32mnot\u001b[0m \u001b[0misinstance\u001b[0m\u001b[0;34m(\u001b[0m\u001b[0mlHMM\u001b[0m\u001b[0;34m,\u001b[0m \u001b[0mlist\u001b[0m\u001b[0;34m)\u001b[0m\u001b[0;34m:\u001b[0m\u001b[0;34m\u001b[0m\u001b[0m\n\u001b[0;32m--> 120\u001b[0;31m                 \u001b[0;32mraise\u001b[0m \u001b[0mException\u001b[0m\u001b[0;34m(\u001b[0m\u001b[0;34m'The lHMM value is not a list.'\u001b[0m\u001b[0;34m)\u001b[0m\u001b[0;34m\u001b[0m\u001b[0m\n\u001b[0m\u001b[1;32m    121\u001b[0m             \u001b[0;32mfor\u001b[0m \u001b[0miHMM\u001b[0m \u001b[0;32min\u001b[0m \u001b[0mlHMM\u001b[0m\u001b[0;34m:\u001b[0m\u001b[0;34m\u001b[0m\u001b[0m\n\u001b[1;32m    122\u001b[0m                 \u001b[0;32mif\u001b[0m \u001b[0;32mnot\u001b[0m \u001b[0misinstance\u001b[0m\u001b[0;34m(\u001b[0m\u001b[0miHMM\u001b[0m\u001b[0;34m,\u001b[0m \u001b[0mhmm\u001b[0m\u001b[0;34m.\u001b[0m\u001b[0mHMM\u001b[0m\u001b[0;34m)\u001b[0m\u001b[0;34m:\u001b[0m\u001b[0;34m\u001b[0m\u001b[0m\n",
      "\u001b[0;31mException\u001b[0m: The lHMM value is not a list."
     ]
    }
   ],
   "source": [
    "for iSequence in sequences_HIV:\n",
    "    iTandem_repeats = iSequence.detect(\"/home/lina/Desktop/tral/tral/examples/data/Kelch_1.hmm\")\n",
    "    \n",
    "    ## how does this work??"
   ]
  },
  {
   "cell_type": "code",
   "execution_count": 30,
   "metadata": {},
   "outputs": [
    {
     "name": "stdout",
     "output_type": "stream",
     "text": [
      "<tral.sequence.sequence.Sequence object at 0x7f566444bf28>\n",
      "<tral.sequence.sequence.Sequence object at 0x7f566444be48>\n",
      "<tral.sequence.sequence.Sequence object at 0x7f566444bf98>\n",
      "<tral.sequence.sequence.Sequence object at 0x7f562d917898>\n",
      "<tral.sequence.sequence.Sequence object at 0x7f562d9178d0>\n",
      "<tral.sequence.sequence.Sequence object at 0x7f566444beb8>\n",
      "<tral.sequence.sequence.Sequence object at 0x7f566444bf60>\n",
      "<tral.sequence.sequence.Sequence object at 0x7f562d91e780>\n",
      "<tral.sequence.sequence.Sequence object at 0x7f562d91e7f0>\n"
     ]
    }
   ],
   "source": [
    "for iSequence in sequences_HIV:\n",
    "    print(iSequence)\n",
    "    iSequence.get_repeatlist(\"denovo\")"
   ]
  },
  {
   "cell_type": "markdown",
   "metadata": {},
   "source": [
    "Different different algorithms usually detect different tandem repeats. This the the absolute number of detections in the HIV proteome for a couple of algorithms:\n",
    "\n",
    "**These numbers here are not all correct!! It seems that this part is currently not working**"
   ]
  },
  {
   "cell_type": "code",
   "execution_count": 4,
   "metadata": {},
   "outputs": [
    {
     "data": {
      "text/plain": [
       "4"
      ]
     },
     "execution_count": 4,
     "metadata": {},
     "output_type": "execute_result"
    }
   ],
   "source": [
    "len([i for j in sequences_HIV for i in j.get_repeatlist('denovo').repeats if i.TRD == \"T-REKS\"])"
   ]
  },
  {
   "cell_type": "code",
   "execution_count": 5,
   "metadata": {},
   "outputs": [
    {
     "data": {
      "text/plain": [
       "6"
      ]
     },
     "execution_count": 5,
     "metadata": {},
     "output_type": "execute_result"
    }
   ],
   "source": [
    "# is not always the same, the tutorial says 6 repeats, before here was 6 and now 4...\n",
    "# the number of repeats may be differ between runs\n",
    "len([i for j in sequences_HIV for i in j.get_repeatlist('denovo').repeats if i.TRD == \"TRUST\"])"
   ]
  },
  {
   "cell_type": "code",
   "execution_count": 6,
   "metadata": {
    "scrolled": true
   },
   "outputs": [
    {
     "data": {
      "text/plain": [
       "9"
      ]
     },
     "execution_count": 6,
     "metadata": {},
     "output_type": "execute_result"
    }
   ],
   "source": [
    "len([i for j in sequences_HIV for i in j.get_repeatlist('denovo').repeats if i.TRD == \"XSTREAM\"])"
   ]
  },
  {
   "cell_type": "markdown",
   "metadata": {},
   "source": [
    "As an example, T-REKS detects the following repeat in the second HIV sequence (interpretation):"
   ]
  },
  {
   "cell_type": "code",
   "execution_count": 7,
   "metadata": {},
   "outputs": [
    {
     "name": "stdout",
     "output_type": "stream",
     "text": [
      "> begin:449 l_effective:10 n:2\n",
      "RPEPTAPP-ESL\n",
      "RPEPTAPPPES-\n"
     ]
    }
   ],
   "source": [
    "print([i for i in sequences_HIV[1].get_repeatlist('denovo').repeats if i.TRD == \"T-REKS\"][0])\n",
    "# This output seems correct."
   ]
  },
  {
   "cell_type": "markdown",
   "metadata": {},
   "source": [
    "## Output the detected tandem repeats.\n",
    "\n",
    "Write a singe repeat_list to .tsv format:"
   ]
  },
  {
   "cell_type": "code",
   "execution_count": 12,
   "metadata": {},
   "outputs": [],
   "source": [
    "path_to_output_tsv_file = \"outputfile.tsv\" # Choose your path and filename\n",
    "tandem_repeats.write(output_format = \"tsv\", file = path_to_output_tsv_file)"
   ]
  },
  {
   "cell_type": "markdown",
   "metadata": {},
   "source": [
    "The created .tsv looks as follows (interpretation):"
   ]
  },
  {
   "cell_type": "code",
   "execution_count": 17,
   "metadata": {},
   "outputs": [
    {
     "name": "stdout",
     "output_type": "stream",
     "text": [
      "begin\tmsa_original\tl_effective\tn_effective\trepeat_region_length\tdivergence\tpvalue\r\n",
      "385\tLFNSTKLE,LFNSST-N\t7\t2.0\t15\tNone\tNone\r\n"
     ]
    }
   ],
   "source": [
    "!cat outputfile.tsv ## An other output than in the original tutorial! (Because here is another TRD used)"
   ]
  },
  {
   "cell_type": "markdown",
   "metadata": {},
   "source": [
    "Write a singe repeat_list to .pickle format:"
   ]
  },
  {
   "cell_type": "code",
   "execution_count": 14,
   "metadata": {},
   "outputs": [],
   "source": [
    "path_to_output_pickle_file = \"outputfile.pickle\"  # Choose your path and filename\n",
    "tandem_repeats.write(output_format = \"pickle\", file = path_to_output_pickle_file)"
   ]
  },
  {
   "cell_type": "markdown",
   "metadata": {},
   "source": [
    "A repeat_list in pickle format can easily be read in again:"
   ]
  },
  {
   "cell_type": "code",
   "execution_count": 15,
   "metadata": {},
   "outputs": [],
   "source": [
    "from tral.repeat_list import repeat_list\n",
    "tandem_repeats = repeat_list.RepeatList.create(input_format = \"pickle\", file = path_to_output_pickle_file)"
   ]
  },
  {
   "cell_type": "markdown",
   "metadata": {},
   "source": [
    "Save multiple sequence together with tandem repeat annotations:"
   ]
  },
  {
   "cell_type": "code",
   "execution_count": 16,
   "metadata": {},
   "outputs": [],
   "source": [
    "import pickle\n",
    "path_to_output_pickle_file = \"outputfile.pickle\" # Choose your path and filename\n",
    "with open(path_to_output_pickle_file, 'wb') as fh:\n",
    "    pickle.dump(sequences_HIV, fh)"
   ]
  }
 ],
 "metadata": {
  "kernelspec": {
   "display_name": "Python 3",
   "language": "python",
   "name": "python3"
  },
  "language_info": {
   "codemirror_mode": {
    "name": "ipython",
    "version": 3
   },
   "file_extension": ".py",
   "mimetype": "text/x-python",
   "name": "python",
   "nbconvert_exporter": "python",
   "pygments_lexer": "ipython3",
   "version": "3.7.0"
  }
 },
 "nbformat": 4,
 "nbformat_minor": 2
}
