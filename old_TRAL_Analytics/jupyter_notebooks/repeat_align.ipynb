{
 "cells": [
  {
   "cell_type": "code",
   "execution_count": 1,
   "metadata": {},
   "outputs": [],
   "source": [
    "import logging\n",
    "import os\n",
    "import subprocess\n",
    "import tempfile\n",
    "from Bio import AlignIO"
   ]
  },
  {
   "cell_type": "code",
   "execution_count": 20,
   "metadata": {},
   "outputs": [],
   "source": [
    "#!pip install biopython"
   ]
  },
  {
   "cell_type": "code",
   "execution_count": 2,
   "metadata": {},
   "outputs": [],
   "source": [
    "log = logging.getLogger(__name__)"
   ]
  },
  {
   "cell_type": "code",
   "execution_count": 22,
   "metadata": {},
   "outputs": [
    {
     "name": "stdout",
     "output_type": "stream",
     "text": [
      "Requirement already satisfied: configobj in /home/lina/anaconda3/envs/test_tral/lib/python3.7/site-packages (5.0.6)\r\n",
      "Requirement already satisfied: six in /home/lina/anaconda3/envs/test_tral/lib/python3.7/site-packages (from configobj) (1.11.0)\r\n"
     ]
    }
   ],
   "source": [
    "!pip install configobj"
   ]
  },
  {
   "cell_type": "code",
   "execution_count": 23,
   "metadata": {},
   "outputs": [
    {
     "name": "stdout",
     "output_type": "stream",
     "text": [
      "Requirement already satisfied: numpy in /home/lina/anaconda3/envs/test_tral/lib/python3.7/site-packages (1.15.3)\r\n"
     ]
    }
   ],
   "source": [
    "!pip install numpy"
   ]
  },
  {
   "cell_type": "code",
   "execution_count": 24,
   "metadata": {},
   "outputs": [
    {
     "name": "stdout",
     "output_type": "stream",
     "text": [
      "Requirement already satisfied: pytest in /home/lina/anaconda3/envs/test_tral/lib/python3.7/site-packages (3.10.0)\r\n",
      "Requirement already satisfied: six>=1.10.0 in /home/lina/anaconda3/envs/test_tral/lib/python3.7/site-packages (from pytest) (1.11.0)\r\n",
      "Requirement already satisfied: attrs>=17.4.0 in /home/lina/anaconda3/envs/test_tral/lib/python3.7/site-packages (from pytest) (18.2.0)\r\n",
      "Requirement already satisfied: py>=1.5.0 in /home/lina/anaconda3/envs/test_tral/lib/python3.7/site-packages (from pytest) (1.7.0)\r\n",
      "Requirement already satisfied: setuptools in /home/lina/anaconda3/envs/test_tral/lib/python3.7/site-packages (from pytest) (40.5.0)\r\n",
      "Requirement already satisfied: atomicwrites>=1.0 in /home/lina/anaconda3/envs/test_tral/lib/python3.7/site-packages (from pytest) (1.2.1)\r\n",
      "Requirement already satisfied: more-itertools>=4.0.0 in /home/lina/anaconda3/envs/test_tral/lib/python3.7/site-packages (from pytest) (4.3.0)\r\n",
      "Requirement already satisfied: pluggy>=0.7 in /home/lina/anaconda3/envs/test_tral/lib/python3.7/site-packages (from pytest) (0.8.0)\r\n"
     ]
    }
   ],
   "source": [
    "!pip install pytest"
   ]
  },
  {
   "cell_type": "code",
   "execution_count": 25,
   "metadata": {},
   "outputs": [
    {
     "name": "stdout",
     "output_type": "stream",
     "text": [
      "Requirement already satisfied: scipy in /home/lina/anaconda3/envs/test_tral/lib/python3.7/site-packages (1.1.0)\r\n",
      "Requirement already satisfied: numpy>=1.8.2 in /home/lina/anaconda3/envs/test_tral/lib/python3.7/site-packages (from scipy) (1.15.3)\r\n"
     ]
    }
   ],
   "source": [
    "!pip install scipy"
   ]
  },
  {
   "cell_type": "code",
   "execution_count": 3,
   "metadata": {},
   "outputs": [],
   "source": [
    "from tral.repeat import repeat"
   ]
  },
  {
   "cell_type": "code",
   "execution_count": 4,
   "metadata": {},
   "outputs": [],
   "source": [
    "from tral import configuration"
   ]
  },
  {
   "cell_type": "code",
   "execution_count": 5,
   "metadata": {},
   "outputs": [],
   "source": [
    "CONFIG_GENERAL = configuration.Configuration.instance().config\n",
    "REPEAT_CONFIG = CONFIG_GENERAL[\"repeat\"]"
   ]
  },
  {
   "cell_type": "code",
   "execution_count": 6,
   "metadata": {},
   "outputs": [
    {
     "name": "stdout",
     "output_type": "stream",
     "text": [
      "{'scoreslist': ['phylo_gap01'], 'calc_score': 'False', 'calc_pvalue': 'False', 'precision': '10', 'ginsi': 'ginsi'}\n"
     ]
    }
   ],
   "source": [
    "print(REPEAT_CONFIG)"
   ]
  },
  {
   "cell_type": "markdown",
   "metadata": {},
   "source": [
    "## def realign_repeat\n",
    "Here starts the function. The upper part will probably stay the same for any repeat aligner."
   ]
  },
  {
   "cell_type": "code",
   "execution_count": 39,
   "metadata": {},
   "outputs": [],
   "source": [
    "working_dir = tempfile.mkdtemp()\n",
    "log.debug(\"evolvedTR: Created temp directory: %s\", working_dir)"
   ]
  },
  {
   "cell_type": "code",
   "execution_count": 40,
   "metadata": {},
   "outputs": [],
   "source": [
    "msa_file = os.path.join(working_dir, 'msa_temp.faa')"
   ]
  },
  {
   "cell_type": "code",
   "execution_count": 9,
   "metadata": {},
   "outputs": [],
   "source": [
    "msa_file_wo_gaps = os.path.join(working_dir, 'msa_temp_wo_gaps.faa')"
   ]
  },
  {
   "cell_type": "code",
   "execution_count": 41,
   "metadata": {},
   "outputs": [],
   "source": [
    "msa_file = os.path.join(working_dir, '25_13_mafft.faa')"
   ]
  },
  {
   "cell_type": "code",
   "execution_count": 42,
   "metadata": {},
   "outputs": [
    {
     "name": "stdout",
     "output_type": "stream",
     "text": [
      "/tmp/tmpb5wt73qm/25_13_mafft.faa\n"
     ]
    }
   ],
   "source": [
    "print(msa_file)"
   ]
  },
  {
   "cell_type": "code",
   "execution_count": 12,
   "metadata": {},
   "outputs": [],
   "source": [
    "my_msa = [\"MGKGYL---------------------------------------ALCSYNCKEA-INILSHLPSHHYN\",\"TG--------------------------------------------------------------WVLCQ\",\"IGRAYF---------------------------------------ELSEYMQAER-IFSEVRRIENYRV\",\"EGMEIYSTTLWHLQK------------------------------DVALSVLSKDLTDMDKNSPEAWCA\",\"AGNCFS---------LQREH-------------------------DIAIKFFQRA-IQVDPNYAYAYTL\",\"LGHEFV--------------LTEEL--------------------DKALACFRNA-IRVNPRHYNAWYG\",\"LGMIYY-------------------KQEKF---------------SLAEMHFQKA-LDINPQSSVLLCH\",\"IGVVQH------------------------ALKKS----------EKALDTLNKA-IVIDPKNPLCKFH\",\"RASVLF-----------------------------ANEKY-----KSALQELEEL-KQIVPKESLVYFL\",\"IGKVYK----------------------------------KLGQTHLALMNFSWA-MDLDPKGAN----\"]\n",
    "\n",
    "# this example msa is from repeat_align_test.py"
   ]
  },
  {
   "cell_type": "code",
   "execution_count": 43,
   "metadata": {},
   "outputs": [],
   "source": [
    "#with open(msa_file, 'w') as msa_filehandle:\n",
    "#    for i, iMSA in enumerate(my_msa):\n",
    "#        msa_filehandle.write('> {0}\\n{1}\\n'.format(i, iMSA))\n",
    "        \n",
    "with open(msa_file, 'w') as msa_filehandle:\n",
    "    for i, iMSA in enumerate(my_msa):\n",
    "        msa_filehandle.write('> seq{0}\\n{1}\\n'.format(i+1, iMSA))  # sequence name should not only be numbered"
   ]
  },
  {
   "cell_type": "code",
   "execution_count": 14,
   "metadata": {},
   "outputs": [],
   "source": [
    "my_msa_wo_gaps = [seq.replace(\"-\", \"\") for seq in my_msa] ## delete all gaps in msa"
   ]
  },
  {
   "cell_type": "code",
   "execution_count": 65,
   "metadata": {},
   "outputs": [],
   "source": []
  },
  {
   "cell_type": "code",
   "execution_count": 66,
   "metadata": {},
   "outputs": [],
   "source": [
    "with open(msa_file_wo_gaps, 'w') as msa_filehandle:\n",
    "    for i, iMSA in enumerate(my_msa_wo_gaps):\n",
    "        msa_filehandle.write('> seq{0}\\n{1}\\n'.format(i, iMSA))  # sequence name should not only be numbered"
   ]
  },
  {
   "cell_type": "code",
   "execution_count": 34,
   "metadata": {},
   "outputs": [],
   "source": [
    "# just to show\n",
    "#with open(msa_file, 'w') as msa_filehandle:\n",
    "#    for i, iMSA in enumerate(my_msa):\n",
    "#        print(i,iMSA)"
   ]
  },
  {
   "cell_type": "markdown",
   "metadata": {},
   "source": [
    "## if aligner =='proPIP':"
   ]
  },
  {
   "cell_type": "code",
   "execution_count": 76,
   "metadata": {
    "scrolled": true
   },
   "outputs": [
    {
     "name": "stdout",
     "output_type": "stream",
     "text": [
      "Collecting ete3\n",
      "\u001b[?25l  Downloading https://files.pythonhosted.org/packages/21/17/3c49b7fafe10ed63bb7904ebf9764b98db726aa5fd482fb006818854bc04/ete3-3.1.1.tar.gz (10.5MB)\n",
      "\u001b[K    100% |████████████████████████████████| 10.5MB 5.3MB/s eta 0:00:01\n",
      "\u001b[?25hBuilding wheels for collected packages: ete3\n",
      "  Running setup.py bdist_wheel for ete3 ... \u001b[?25ldone\n",
      "\u001b[?25h  Stored in directory: /home/lina/.cache/pip/wheels/14/90/50/5c10d965e7fb68343d9c5349cce2787ff3e38397946468d640\n",
      "Successfully built ete3\n",
      "Installing collected packages: ete3\n",
      "Successfully installed ete3-3.1.1\n"
     ]
    }
   ],
   "source": [
    "!pip install ete3"
   ]
  },
  {
   "cell_type": "code",
   "execution_count": 20,
   "metadata": {},
   "outputs": [
    {
     "data": {
      "text/plain": [
       "1"
      ]
     },
     "execution_count": 20,
     "metadata": {},
     "output_type": "execute_result"
    }
   ],
   "source": [
    "msa_phy = os.path.join(working_dir, '25_13_mafft.phy')\n",
    "AlignIO.convert(msa_file, \"fasta\", msa_phy, \"phylip\")"
   ]
  },
  {
   "cell_type": "code",
   "execution_count": 69,
   "metadata": {},
   "outputs": [
    {
     "data": {
      "text/plain": [
       "1"
      ]
     },
     "execution_count": 69,
     "metadata": {},
     "output_type": "execute_result"
    }
   ],
   "source": [
    "#input_handle = open(msa_file, \"r\")\n",
    "msa_phy = os.path.join(working_dir, 'msa_temp.phy')\n",
    "#output_handle = open(msa_phy, \"w\")\n",
    "#alignments = AlignIO.parse(input_handle, \"fasta\")\n",
    "#AlignIO.write(alignments, output_handle, \"phylip\")\n",
    "#input_handle.close()\n",
    "#output_handle.close()\n",
    "\n",
    "AlignIO.convert(msa_file, \"fasta\", msa_phy, \"phylip\")"
   ]
  },
  {
   "cell_type": "code",
   "execution_count": 21,
   "metadata": {
    "scrolled": true
   },
   "outputs": [
    {
     "name": "stdout",
     "output_type": "stream",
     "text": [
      "/tmp/tmpw128cayg/25_13_mafft.phy\n"
     ]
    }
   ],
   "source": [
    "print(msa_phy)"
   ]
  },
  {
   "cell_type": "code",
   "execution_count": 22,
   "metadata": {},
   "outputs": [],
   "source": [
    "sequence_type = 'AA'\n",
    "\n",
    "if sequence_type == 'AA':\n",
    "    data_type = 'aa'\n",
    "elif sequence_type == 'DNA':\n",
    "    data_type = 'nt'\n",
    "else:\n",
    "    raise ValueError(\n",
    "        'The sequence type {} is not supported.'.format(sequence_type))"
   ]
  },
  {
   "cell_type": "code",
   "execution_count": 23,
   "metadata": {},
   "outputs": [],
   "source": [
    "phyml_command = [REPEAT_CONFIG['PhyML'],  \n",
    "                 '--input',\n",
    "                 msa_phy,\n",
    "                 '--datatype',\n",
    "                 data_type]"
   ]
  },
  {
   "cell_type": "code",
   "execution_count": 189,
   "metadata": {},
   "outputs": [],
   "source": [
    "#phyml_command = \"%s -i %s -d %s\" % (REPEAT_CONFIG['PhyML'], msa_phy, data_type)"
   ]
  },
  {
   "cell_type": "code",
   "execution_count": 24,
   "metadata": {},
   "outputs": [
    {
     "data": {
      "text/plain": [
       "['PhyML-3.1_linux64',\n",
       " '--input',\n",
       " '/tmp/tmpw128cayg/25_13_mafft.phy',\n",
       " '--datatype',\n",
       " 'aa']"
      ]
     },
     "execution_count": 24,
     "metadata": {},
     "output_type": "execute_result"
    }
   ],
   "source": [
    "phyml_command"
   ]
  },
  {
   "cell_type": "code",
   "execution_count": 197,
   "metadata": {},
   "outputs": [],
   "source": [
    "# p = subprocess.Popen(phyml_command.split())\n",
    "# this command split would create an error if there are any white spaces\n",
    "# in the user path. good practise to not use something like this"
   ]
  },
  {
   "cell_type": "code",
   "execution_count": 25,
   "metadata": {},
   "outputs": [],
   "source": [
    "p = subprocess.Popen(phyml_command)"
   ]
  },
  {
   "cell_type": "code",
   "execution_count": 26,
   "metadata": {},
   "outputs": [],
   "source": [
    "tree_file = msa_phy + \"_phyml_tree.txt\"\n",
    "with open (tree_file,\"r\") as tree:\n",
    "    tree = tree.read()"
   ]
  },
  {
   "cell_type": "code",
   "execution_count": 27,
   "metadata": {},
   "outputs": [
    {
     "name": "stdout",
     "output_type": "stream",
     "text": [
      "(1737_2:0.87330411,1737_3:0.31435158,((((1737_10:0.34801093,1737_0:0.57030369)0.658000:0.09102283,1737_8:0.29216895)0.748000:0.09202513,1737_6:1.24928901)0.000000:0.00000670,(((1737_5:0.83280688,(1737_1:0.84916076,(1737_9:1.50975292,1737_11:1.56771714)0.000000:0.00007046)0.000000:0.00003275)0.000000:0.00003069,1737_7:0.26156496)0.726000:0.15987827,1737_4:0.92209976)0.000000:0.00002967)0.898000:0.54880003);\n",
      "\n"
     ]
    }
   ],
   "source": [
    "print(tree)"
   ]
  },
  {
   "cell_type": "code",
   "execution_count": 28,
   "metadata": {
    "scrolled": true
   },
   "outputs": [
    {
     "name": "stdout",
     "output_type": "stream",
     "text": [
      "\n",
      "   /-1737_2\n",
      "  |\n",
      "  |--1737_3\n",
      "  |\n",
      "  |            /-1737_10\n",
      "  |         /-|\n",
      "--|      /-|   \\-1737_0\n",
      "  |     |  |\n",
      "  |   /-|   \\-1737_8\n",
      "  |  |  |\n",
      "  |  |   \\-1737_6\n",
      "  |  |\n",
      "  |  |         /-1737_5\n",
      "   \\-|      /-|\n",
      "     |     |  |   /-1737_1\n",
      "     |     |   \\-|\n",
      "     |   /-|     |   /-1737_9\n",
      "     |  |  |      \\-|\n",
      "     |  |  |         \\-1737_11\n",
      "      \\-|  |\n",
      "        |   \\-1737_7\n",
      "        |\n",
      "         \\-1737_4\n"
     ]
    }
   ],
   "source": [
    "from ete3 import Tree\n",
    "t = Tree(tree)\n",
    "print(t)"
   ]
  },
  {
   "cell_type": "code",
   "execution_count": 29,
   "metadata": {
    "scrolled": true
   },
   "outputs": [
    {
     "name": "stdout",
     "output_type": "stream",
     "text": [
      "\n",
      "      /-1737_3\n",
      "     |\n",
      "     |            /-1737_10\n",
      "     |         /-|\n",
      "     |      /-|   \\-1737_0\n",
      "   /-|     |  |\n",
      "  |  |   /-|   \\-1737_8\n",
      "  |  |  |  |\n",
      "  |  |  |   \\-1737_6\n",
      "  |  |  |\n",
      "  |  |  |         /-1737_5\n",
      "  |   \\-|      /-|\n",
      "  |     |     |  |   /-1737_1\n",
      "--|     |     |   \\-|\n",
      "  |     |   /-|     |   /-1737_9\n",
      "  |     |  |  |      \\-|\n",
      "  |     |  |  |         \\-1737_11\n",
      "  |      \\-|  |\n",
      "  |        |   \\-1737_7\n",
      "  |        |\n",
      "  |         \\-1737_4\n",
      "  |\n",
      "   \\-1737_2\n"
     ]
    }
   ],
   "source": [
    "t.resolve_polytomy()\n",
    "print(t)"
   ]
  },
  {
   "cell_type": "code",
   "execution_count": 38,
   "metadata": {
    "scrolled": false
   },
   "outputs": [],
   "source": [
    "new_tree = t.write(format=1)"
   ]
  },
  {
   "cell_type": "code",
   "execution_count": 39,
   "metadata": {},
   "outputs": [
    {
     "name": "stdout",
     "output_type": "stream",
     "text": [
      "((1737_3:0.314352,((((1737_10:0.348011,1737_0:0.570304):0.0910228,1737_8:0.292169):0.0920251,1737_6:1.24929):6.7e-06,(((1737_5:0.832807,(1737_1:0.849161,(1737_9:1.50975,1737_11:1.56772):7.046e-05):3.275e-05):3.069e-05,1737_7:0.261565):0.159878,1737_4:0.9221):2.967e-05):0.5488):0,1737_2:0.873304);\n"
     ]
    }
   ],
   "source": [
    "print(new_tree)"
   ]
  },
  {
   "cell_type": "code",
   "execution_count": 40,
   "metadata": {
    "scrolled": false
   },
   "outputs": [],
   "source": [
    "xx = new_tree.replace(\":0,\", \":0.0000001\") ## replace branchlength 0 with 0.0000001\n",
    "#new_tree.replace(\":0)\", \":0.0000001)\")"
   ]
  },
  {
   "cell_type": "code",
   "execution_count": 41,
   "metadata": {},
   "outputs": [
    {
     "name": "stdout",
     "output_type": "stream",
     "text": [
      "((1737_3:0.314352,((((1737_10:0.348011,1737_0:0.570304):0.0910228,1737_8:0.292169):0.0920251,1737_6:1.24929):6.7e-06,(((1737_5:0.832807,(1737_1:0.849161,(1737_9:1.50975,1737_11:1.56772):7.046e-05):3.275e-05):3.069e-05,1737_7:0.261565):0.159878,1737_4:0.9221):2.967e-05):0.5488):0.0000001,1737_2:0.873304);\n"
     ]
    }
   ],
   "source": [
    "print(xx)"
   ]
  },
  {
   "cell_type": "code",
   "execution_count": 125,
   "metadata": {},
   "outputs": [],
   "source": [
    "changed_tree = Tree(\"((seq1:1.23905,(seq9:0.691308,((seq8:2.01072,seq7:0.73598):0.442514,((seq4:1.05147,(seq5:0.883349,seq3:1.39482):0.254853):0.151611,(seq0:1.1512,seq2:2.03936):1.18825):0.242604):0.416472):0.550751):0.0001,seq6:0.0926462);\")"
   ]
  },
  {
   "cell_type": "code",
   "execution_count": 126,
   "metadata": {},
   "outputs": [
    {
     "name": "stdout",
     "output_type": "stream",
     "text": [
      "\n",
      "      /-seq1\n",
      "     |\n",
      "   /-|   /-seq9\n",
      "  |  |  |\n",
      "  |  |  |      /-seq8\n",
      "  |   \\-|   /-|\n",
      "  |     |  |   \\-seq7\n",
      "  |     |  |\n",
      "  |      \\-|      /-seq4\n",
      "  |        |   /-|\n",
      "--|        |  |  |   /-seq5\n",
      "  |        |  |   \\-|\n",
      "  |         \\-|      \\-seq3\n",
      "  |           |\n",
      "  |           |   /-seq0\n",
      "  |            \\-|\n",
      "  |               \\-seq2\n",
      "  |\n",
      "   \\-seq6\n"
     ]
    }
   ],
   "source": [
    "print(changed_tree)"
   ]
  },
  {
   "cell_type": "code",
   "execution_count": 199,
   "metadata": {},
   "outputs": [],
   "source": [
    "./miniJATI alphabet=DNA alignment=true input.sequence.file=notaligned_real_shh300_nt.fa input.sequence.sites_to_use=all model=\"PIP(model=GTR(),lambda=0.1,mu=0.2)\" rate_distribution=\"Constant()\" init.tree=user input.tree.file=real_real_shh300_nt.tree.nwk optimization=\"ND-BFGS(derivatives=BFGS)\" optimization.ignore_parameters=BrLen,Model optimization.max_number_f_eval=1000 optimization.tolerance=0.001 optimization.final=bfgs optimization.topology=false output.msa.file=out_alignmment.fa output.tree.file=out_tree.nwk output.infos=out_info.log output.estimates=.out_estimates.log"
   ]
  },
  {
   "cell_type": "code",
   "execution_count": null,
   "metadata": {},
   "outputs": [],
   "source": []
  },
  {
   "cell_type": "markdown",
   "metadata": {},
   "source": [
    "## if aligner =='mafft':\n",
    "Start with the mafft specific input.\n",
    "\n",
    "How to get stdout and stderr using Python's subprocess module:\n",
    "https://www.saltycrane.com/blog/2008/09/how-get-stdout-and-stderr-using-python-subprocess-module/"
   ]
  },
  {
   "cell_type": "code",
   "execution_count": 44,
   "metadata": {},
   "outputs": [],
   "source": [
    "# I have to define an msa file. An example file is given here.\n",
    "p = subprocess.Popen([REPEAT_CONFIG['ginsi'],\n",
    "                      \"--anysymbol\",\n",
    "                      \"--quiet\",\n",
    "                      \"/home/lina/SynologyDrive/TRAL_Masterthesis/Notes/alignment/repeat_align/example_sequences/msa.faa\"], \n",
    "                     stdout=subprocess.PIPE)"
   ]
  },
  {
   "cell_type": "code",
   "execution_count": 25,
   "metadata": {},
   "outputs": [],
   "source": [
    "# create an new test msa:\n",
    "p = subprocess.Popen([REPEAT_CONFIG['ginsi'],\n",
    "                      \"--anysymbol\",\n",
    "                      \"--quiet\",\n",
    "                      \"/home/lina/SynologyDrive/TRAL_Masterthesis/program_testing/miniJati/Testfiles/25_13.faa\"])"
   ]
  },
  {
   "cell_type": "markdown",
   "metadata": {},
   "source": [
    "I will look at the following line a little bit in detail to understand the whole function:"
   ]
  },
  {
   "cell_type": "code",
   "execution_count": null,
   "metadata": {},
   "outputs": [],
   "source": [
    "# mafft_output = [line.decode('utaf8').rstrip() for line in p.stdout]"
   ]
  },
  {
   "cell_type": "code",
   "execution_count": 29,
   "metadata": {},
   "outputs": [
    {
     "name": "stdout",
     "output_type": "stream",
     "text": [
      "<subprocess.Popen object at 0x7fa6cb9d5828>\n"
     ]
    }
   ],
   "source": [
    "print(p)"
   ]
  },
  {
   "cell_type": "markdown",
   "metadata": {},
   "source": [
    "This methods only work once! So the ginsi output has to be in stdout to read it or to decode it!"
   ]
  },
  {
   "cell_type": "code",
   "execution_count": 31,
   "metadata": {
    "scrolled": false
   },
   "outputs": [
    {
     "data": {
      "text/plain": [
       "b''"
      ]
     },
     "execution_count": 31,
     "metadata": {},
     "output_type": "execute_result"
    }
   ],
   "source": [
    "p.stdout.read()"
   ]
  },
  {
   "cell_type": "code",
   "execution_count": 27,
   "metadata": {},
   "outputs": [
    {
     "data": {
      "text/plain": [
       "[]"
      ]
     },
     "execution_count": 27,
     "metadata": {},
     "output_type": "execute_result"
    }
   ],
   "source": [
    "[line for line in p.stdout]"
   ]
  },
  {
   "cell_type": "code",
   "execution_count": 19,
   "metadata": {},
   "outputs": [
    {
     "name": "stdout",
     "output_type": "stream",
     "text": [
      "[]\n"
     ]
    }
   ],
   "source": [
    "encoded_output = [line.decode('utf8') for line in p.stdout]\n",
    "print(encoded_output)"
   ]
  },
  {
   "cell_type": "code",
   "execution_count": null,
   "metadata": {},
   "outputs": [],
   "source": [
    "encoded_output"
   ]
  },
  {
   "cell_type": "code",
   "execution_count": 20,
   "metadata": {},
   "outputs": [
    {
     "data": {
      "text/plain": [
       "<_io.BufferedReader name=44>"
      ]
     },
     "execution_count": 20,
     "metadata": {},
     "output_type": "execute_result"
    }
   ],
   "source": [
    "p.stdout"
   ]
  },
  {
   "cell_type": "markdown",
   "metadata": {},
   "source": [
    "The method rstrip() returns a copy of the string in which all chars have been stripped from the end of the string (default whitespace characters)."
   ]
  },
  {
   "cell_type": "code",
   "execution_count": 45,
   "metadata": {},
   "outputs": [],
   "source": [
    "mafft_output = [line.decode('utf8').rstrip() for line in p.stdout]"
   ]
  },
  {
   "cell_type": "code",
   "execution_count": 21,
   "metadata": {},
   "outputs": [],
   "source": [
    "mafft_output = [line.rstrip() for line in encoded_output] # here it strips for example the \\n!"
   ]
  },
  {
   "cell_type": "code",
   "execution_count": 46,
   "metadata": {},
   "outputs": [
    {
     "data": {
      "text/plain": [
       "['> 0',\n",
       " 'MGKGYLALC----SYNC-----KEAI-NILSHLPSHHYN',\n",
       " '> 1',\n",
       " 'TGWVL--------------------------------CQ',\n",
       " '> 2',\n",
       " 'IGRAYFELS----EYMQAERIFSEVR-RIEN-----YRV',\n",
       " '> 3',\n",
       " 'EGMEIYSTTLWHLQKDVALSVLSKDLTDMDKNSPEAWCA',\n",
       " '> 4',\n",
       " 'AGNCFSLQR----EHDIAIKFFQRAI-QVDPNYAYAYTL',\n",
       " '> 5',\n",
       " 'LGHEFVLTE----ELDKALACFRNAI-RVNPRHYNAWYG',\n",
       " '> 6',\n",
       " 'LGMIYYKQE----KFSLAEMHFQKAL-DINPQSSVLLCH',\n",
       " '> 7',\n",
       " 'IGVVQHALK----KSEKALDTLNKAI-VIDPKNPLCKFH',\n",
       " '> 8',\n",
       " 'RASVLFANE----KYKSALQELEELK-QIVPKESLVYFL',\n",
       " '> 9',\n",
       " 'IGKVYKKLG----QTHLALMNFSWAM-DLDPKGA----N']"
      ]
     },
     "execution_count": 46,
     "metadata": {},
     "output_type": "execute_result"
    }
   ],
   "source": [
    "mafft_output"
   ]
  },
  {
   "cell_type": "code",
   "execution_count": 53,
   "metadata": {},
   "outputs": [
    {
     "data": {
      "text/plain": [
       "list"
      ]
     },
     "execution_count": 53,
     "metadata": {},
     "output_type": "execute_result"
    }
   ],
   "source": [
    "type(mafft_output)"
   ]
  },
  {
   "cell_type": "code",
   "execution_count": 54,
   "metadata": {},
   "outputs": [
    {
     "name": "stdout",
     "output_type": "stream",
     "text": [
      "> 0\n",
      "MGKGYLALC----SYNC-----KEAI-NILSHLPSHHYN\n",
      "> 1\n",
      "TGWVL--------------------------------CQ\n",
      "> 2\n",
      "IGRAYFELS----EYMQAERIFSEVR-RIEN-----YRV\n",
      "> 3\n",
      "EGMEIYSTTLWHLQKDVALSVLSKDLTDMDKNSPEAWCA\n",
      "> 4\n",
      "AGNCFSLQR----EHDIAIKFFQRAI-QVDPNYAYAYTL\n",
      "> 5\n",
      "LGHEFVLTE----ELDKALACFRNAI-RVNPRHYNAWYG\n",
      "> 6\n",
      "LGMIYYKQE----KFSLAEMHFQKAL-DINPQSSVLLCH\n",
      "> 7\n",
      "IGVVQHALK----KSEKALDTLNKAI-VIDPKNPLCKFH\n",
      "> 8\n",
      "RASVLFANE----KYKSALQELEELK-QIVPKESLVYFL\n",
      "> 9\n",
      "IGKVYKKLG----QTHLALMNFSWAM-DLDPKGA----N\n"
     ]
    }
   ],
   "source": [
    "for iLine in mafft_output:\n",
    "    print(iLine)"
   ]
  },
  {
   "cell_type": "code",
   "execution_count": 70,
   "metadata": {},
   "outputs": [
    {
     "name": "stdout",
     "output_type": "stream",
     "text": [
      "> 0\n",
      "> 1\n",
      "> 2\n",
      "> 3\n",
      "> 4\n",
      "> 5\n",
      "> 6\n",
      "> 7\n",
      "> 8\n",
      "> 9\n",
      "['MGKGYLALC----SYNC-----KEAI-NILSHLPSHHYN', 'TGWVL--------------------------------CQ', 'IGRAYFELS----EYMQAERIFSEVR-RIEN-----YRV', 'EGMEIYSTTLWHLQKDVALSVLSKDLTDMDKNSPEAWCA', 'AGNCFSLQR----EHDIAIKFFQRAI-QVDPNYAYAYTL', 'LGHEFVLTE----ELDKALACFRNAI-RVNPRHYNAWYG', 'LGMIYYKQE----KFSLAEMHFQKAL-DINPQSSVLLCH', 'IGVVQHALK----KSEKALDTLNKAI-VIDPKNPLCKFH', 'RASVLFANE----KYKSALQELEELK-QIVPKESLVYFL', 'IGKVYKKLG----QTHLALMNFSWAM-DLDPKGA----N']\n"
     ]
    }
   ],
   "source": [
    "# just to test how it works\n",
    "msa = []\n",
    "for iLine in mafft_output:\n",
    "    if iLine[0] == '>':\n",
    "        print(iLine)\n",
    "    else:\n",
    "        msa.append('') # just to add a new string to the list\n",
    "        msa[-1] += iLine # a negative index means you read from the right, [-1] is the last element!\n",
    "print(msa)"
   ]
  },
  {
   "cell_type": "markdown",
   "metadata": {},
   "source": [
    "Here I found more easy way to create a list for msa:"
   ]
  },
  {
   "cell_type": "code",
   "execution_count": 47,
   "metadata": {},
   "outputs": [],
   "source": [
    "msa = [iLine for iLine in mafft_output if iLine[0] != '>']\n",
    "\n",
    "# first simplyfication\n",
    "\n",
    "# msa = []\n",
    "# for iLine in mafft_output:\n",
    "#     if iLine[0] != '>':\n",
    "#         msa.append(iLine)\n",
    "        \n",
    "# Original in TRAL:\n",
    "\n",
    "# msa = []\n",
    "# for iLine in mafft_output:\n",
    "#     if iLine[0] == '>':\n",
    "#         msa.append('')\n",
    "#     else:\n",
    "#         msa[-1] += iLine"
   ]
  },
  {
   "cell_type": "code",
   "execution_count": 49,
   "metadata": {},
   "outputs": [],
   "source": [
    "msa = [i for i in msa if i != '']"
   ]
  },
  {
   "cell_type": "code",
   "execution_count": 50,
   "metadata": {
    "scrolled": true
   },
   "outputs": [
    {
     "name": "stdout",
     "output_type": "stream",
     "text": [
      "['MGKGYLALC----SYNC-----KEAI-NILSHLPSHHYN', 'TGWVL--------------------------------CQ', 'IGRAYFELS----EYMQAERIFSEVR-RIEN-----YRV', 'EGMEIYSTTLWHLQKDVALSVLSKDLTDMDKNSPEAWCA', 'AGNCFSLQR----EHDIAIKFFQRAI-QVDPNYAYAYTL', 'LGHEFVLTE----ELDKALACFRNAI-RVNPRHYNAWYG', 'LGMIYYKQE----KFSLAEMHFQKAL-DINPQSSVLLCH', 'IGVVQHALK----KSEKALDTLNKAI-VIDPKNPLCKFH', 'RASVLFANE----KYKSALQELEELK-QIVPKESLVYFL', 'IGKVYKKLG----QTHLALMNFSWAM-DLDPKGA----N']\n"
     ]
    }
   ],
   "source": [
    "print(msa)"
   ]
  },
  {
   "cell_type": "code",
   "execution_count": 81,
   "metadata": {},
   "outputs": [
    {
     "name": "stdout",
     "output_type": "stream",
     "text": [
      "MGKGYLALC----SYNC-----KEAI-NILSHLPSHHYN\n",
      "TGWVL--------------------------------CQ\n",
      "IGRAYFELS----EYMQAERIFSEVR-RIEN-----YRV\n",
      "EGMEIYSTTLWHLQKDVALSVLSKDLTDMDKNSPEAWCA\n",
      "AGNCFSLQR----EHDIAIKFFQRAI-QVDPNYAYAYTL\n",
      "LGHEFVLTE----ELDKALACFRNAI-RVNPRHYNAWYG\n",
      "LGMIYYKQE----KFSLAEMHFQKAL-DINPQSSVLLCH\n",
      "IGVVQHALK----KSEKALDTLNKAI-VIDPKNPLCKFH\n",
      "RASVLFANE----KYKSALQELEELK-QIVPKESLVYFL\n",
      "IGKVYKKLG----QTHLALMNFSWAM-DLDPKGA----N\n"
     ]
    }
   ],
   "source": [
    "print('\\n'.join(msa))"
   ]
  }
 ],
 "metadata": {
  "kernelspec": {
   "display_name": "Python 3",
   "language": "python",
   "name": "python3"
  },
  "language_info": {
   "codemirror_mode": {
    "name": "ipython",
    "version": 3
   },
   "file_extension": ".py",
   "mimetype": "text/x-python",
   "name": "python",
   "nbconvert_exporter": "python",
   "pygments_lexer": "ipython3",
   "version": "3.7.0"
  }
 },
 "nbformat": 4,
 "nbformat_minor": 2
}
