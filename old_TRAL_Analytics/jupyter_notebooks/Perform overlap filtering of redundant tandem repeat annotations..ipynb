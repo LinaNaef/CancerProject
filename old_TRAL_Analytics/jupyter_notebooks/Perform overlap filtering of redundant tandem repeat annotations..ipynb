{
 "cells": [
  {
   "cell_type": "markdown",
   "metadata": {},
   "source": [
    "Here you learn how to detect tandem repeat annotations from multiple sources for different types of overlap, and filter them accordingly.\n",
    "\n",
    "Requirements for this tutorial:\n",
    "\n",
    "- Install TRAL. TRAL ships with the tandem repeat data needed for this tutorial.\n",
    "- Download p-Value distribution files."
   ]
  },
  {
   "cell_type": "markdown",
   "metadata": {},
   "source": [
    "## Read in tandem repeat annotations"
   ]
  },
  {
   "cell_type": "code",
   "execution_count": 1,
   "metadata": {},
   "outputs": [],
   "source": [
    "import os, pickle\n",
    "from tral import sequence\n",
    "from tral.paths import PACKAGE_DIRECTORY\n",
    "\n",
    "fRepeat_Pickle = os.path.join(PACKAGE_DIRECTORY, \"examples\", \"data\", \"HIV-1_388796.pickle\")\n",
    "\n",
    "with open(fRepeat_Pickle, 'rb') as fh:\n",
    "    lHIV_Sequence = pickle.load(fh)"
   ]
  },
  {
   "cell_type": "markdown",
   "metadata": {},
   "source": [
    "## Filter overlapping tandem repeats.\n",
    "\n",
    "Tandem repeats can be clustered according to different types of overlap:"
   ]
  },
  {
   "cell_type": "code",
   "execution_count": 2,
   "metadata": {},
   "outputs": [],
   "source": [
    "overlap_type = \"shared_char\"\n",
    "for iSequence in lHIV_Sequence:\n",
    "    iSequence.get_repeatlist(\"denovo\").cluster(overlap_type)"
   ]
  },
  {
   "cell_type": "markdown",
   "metadata": {},
   "source": [
    "In the first sequences, no repeats share any chars, however in the second sequence, three tandem repeats overlap:"
   ]
  },
  {
   "cell_type": "code",
   "execution_count": 3,
   "metadata": {},
   "outputs": [
    {
     "name": "stdout",
     "output_type": "stream",
     "text": [
      "[{5}, {4}, {3}, {2}, {1}, {0}]\n"
     ]
    }
   ],
   "source": [
    "print(lHIV_Sequence[0].get_repeatlist(\"denovo\").d_cluster[overlap_type])"
   ]
  },
  {
   "cell_type": "code",
   "execution_count": 4,
   "metadata": {
    "scrolled": true
   },
   "outputs": [
    {
     "name": "stdout",
     "output_type": "stream",
     "text": [
      "[{4, 5}, {0, 2, 3}, {1}]\n"
     ]
    }
   ],
   "source": [
    "print(lHIV_Sequence[1].get_repeatlist(\"denovo\").d_cluster[overlap_type])"
   ]
  },
  {
   "cell_type": "markdown",
   "metadata": {},
   "source": [
    "Tandem repeats can also directly be filtered of overlapping tandem repeats. Here, we need to choose to retain one of the overlapping tandem repeats. For example the following usage will first retain the tandem repeats of lowest p-Value according to the score, and in case there still are draws, retain the tandem repeat of lowest divergence:"
   ]
  },
  {
   "cell_type": "code",
   "execution_count": 5,
   "metadata": {},
   "outputs": [],
   "source": [
    "overlap_type = \"common_ancestry\"\n",
    "score = \"phylo_gap001\"\n",
    "for iSequence in lHIV_Sequence:\n",
    "    repeat_list_filtered = iSequence.get_repeatlist(\"denovo\").filter(\"none_overlapping\", (overlap_type, None), [(\"pvalue\", score), (\"divergence\", score)])\n",
    "    iSequence.set_repeatlist(repeat_list_filtered, \"denovo_non_overlapping\")"
   ]
  },
  {
   "cell_type": "markdown",
   "metadata": {},
   "source": [
    "The resulting result_list now only contains tandem repeats that do not overlap according the common ancestry overlap:"
   ]
  },
  {
   "cell_type": "code",
   "execution_count": 6,
   "metadata": {},
   "outputs": [
    {
     "data": {
      "text/plain": [
       "28"
      ]
     },
     "execution_count": 6,
     "metadata": {},
     "output_type": "execute_result"
    }
   ],
   "source": [
    "len([iR for iS in lHIV_Sequence for iR in iS.get_repeatlist(\"denovo\").repeats])"
   ]
  },
  {
   "cell_type": "code",
   "execution_count": 7,
   "metadata": {},
   "outputs": [
    {
     "data": {
      "text/plain": [
       "23"
      ]
     },
     "execution_count": 7,
     "metadata": {},
     "output_type": "execute_result"
    }
   ],
   "source": [
    "len([iR for iS in lHIV_Sequence for iR in iS.get_repeatlist(\"denovo_non_overlapping\").repeats])"
   ]
  },
  {
   "cell_type": "markdown",
   "metadata": {},
   "source": [
    "## Available types of overlap/redundancy detection\n",
    "\n",
    "There are currently two types of overlap implemented:\n",
    "\n",
    "- “shared_char”: Do two tandem repeats contain any two chars in common?\n",
    "- “common ancestry”: Do two tandem repeats have at least two chars in the same column of their tandem repeat unit alignments? This approach is more conservative than “shared char”. This approach has been used in the MBE and New Phytologist publications, 2014.\n",
    "\n",
    "For clustering, overlap is assumed to be a transitive attribute. That is, if tandem repeats A & B, as well as B & C overlap, all tandem repeats A, B & C are clustered, no matter whether A and C do also overlap.\n"
   ]
  }
 ],
 "metadata": {
  "kernelspec": {
   "display_name": "Python 3",
   "language": "python",
   "name": "python3"
  },
  "language_info": {
   "codemirror_mode": {
    "name": "ipython",
    "version": 3
   },
   "file_extension": ".py",
   "mimetype": "text/x-python",
   "name": "python",
   "nbconvert_exporter": "python",
   "pygments_lexer": "ipython3",
   "version": "3.7.0"
  }
 },
 "nbformat": 4,
 "nbformat_minor": 2
}
