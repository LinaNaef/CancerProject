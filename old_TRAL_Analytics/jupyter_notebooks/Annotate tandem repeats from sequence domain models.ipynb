{
 "cells": [
  {
   "cell_type": "markdown",
   "metadata": {},
   "source": [
    "Here you learn how to annotate sequences with your favourite sequence profile model. The sequence profile model is transformed into a circular profile HMM, as described in a recent MBE publication. Next, the sequence is searched for tandem repeats using the circular profile HMM.\n",
    "\n",
    "Requirements for this tutorial:\n",
    "\n",
    "- Install TRAL. TRAL ships with the data needed for this tutorial.\n",
    "- Install Mafft/ginsi for tandem repeat unit alignment."
   ]
  },
  {
   "cell_type": "markdown",
   "metadata": {},
   "source": [
    "## Read in your sequence profile model."
   ]
  },
  {
   "cell_type": "code",
   "execution_count": 1,
   "metadata": {},
   "outputs": [],
   "source": [
    "import os\n",
    "from tral.hmm import hmm\n",
    "from tral.paths import PACKAGE_DIRECTORY\n",
    "\n",
    "pfam_profile_HMM = os.path.join(PACKAGE_DIRECTORY,\"examples\", \"data\",\"Kelch_1.hmm\")\n",
    "circular_profile_HMM_Kelch_1 = hmm.HMM.create(input_format = 'hmmer', file = pfam_profile_HMM)"
   ]
  },
  {
   "cell_type": "markdown",
   "metadata": {},
   "source": [
    "See the basic characteristics of the circular profile HMM:"
   ]
  },
  {
   "cell_type": "code",
   "execution_count": 2,
   "metadata": {},
   "outputs": [
    {
     "name": "stdout",
     "output_type": "stream",
     "text": [
      "cpHMM ID: PF01344.20\n",
      "cpHMM length: 47\n",
      "Most likely motif: ARSSAGVVVLDGKIYVIGGRDGDGNALNSVERYDPVTNTWEKLPSMP\n"
     ]
    }
   ],
   "source": [
    "print(circular_profile_HMM_Kelch_1)"
   ]
  },
  {
   "cell_type": "markdown",
   "metadata": {},
   "source": [
    "## Read in your sequences."
   ]
  },
  {
   "cell_type": "code",
   "execution_count": 3,
   "metadata": {},
   "outputs": [],
   "source": [
    "from tral.sequence import sequence\n",
    "\n",
    "human_HCFC1_fasta = os.path.join(PACKAGE_DIRECTORY,\"examples\", \"data\", \"P51610.fasta\")\n",
    "human_HCFC1_sequence = sequence.Sequence.create(file = human_HCFC1_fasta, input_format = 'fasta')[0]"
   ]
  },
  {
   "cell_type": "markdown",
   "metadata": {},
   "source": [
    "## Annotate tandem repeats with the circular profile HMM."
   ]
  },
  {
   "cell_type": "code",
   "execution_count": 4,
   "metadata": {},
   "outputs": [],
   "source": [
    "tandem_repeats = human_HCFC1_sequence.detect(lHMM = [circular_profile_HMM_Kelch_1])"
   ]
  },
  {
   "cell_type": "markdown",
   "metadata": {},
   "source": [
    "The result is a tandem repeat (interpretation):"
   ]
  },
  {
   "cell_type": "code",
   "execution_count": 5,
   "metadata": {},
   "outputs": [
    {
     "name": "stdout",
     "output_type": "stream",
     "text": [
      "> begin:31 l_effective:57 n:5\n",
      "R--------PRHGHRAVAIKELIVVFGGGN----------EGIVDELHV-----------------------------------------------------------YNTATNQW---FIPAVRGDIP-\n",
      "P--------GCAAYGFVCDGTRLLVFGGMV--------EYGKYSNDLYELQ----ASRWEWK------------------------RLKAK---------------------------------------\n",
      "TPKNGPPPCPRLGHSFSLVGNKCYLFGGLANDSEDPKNNIPRYLNDLYILELRPGSGVVAWDIPITYGVLPPPRESHTAVVYTEKDNKKSKLVIYGGMSGCRLGDLWTLDIDTLTW---NKPSLSGVAPL\n",
      "---------PRSLHSATTIGNKMYVFGGWV----------PLVMDDVKVA-----THEKEWKCTNTLA---------------------------------------CLNLDTMAWETILMDTLEDNIP-\n",
      "R--------ARAGHCAVAINTRLYI---------------------------------------------------------------------------------------------------------\n"
     ]
    }
   ],
   "source": [
    "print(tandem_repeats.repeats[0])"
   ]
  },
  {
   "cell_type": "markdown",
   "metadata": {},
   "source": [
    "## Output the detected tandem repeats.\n",
    "\n",
    "Write a singe repeat_list to .tsv format:"
   ]
  },
  {
   "cell_type": "code",
   "execution_count": 6,
   "metadata": {},
   "outputs": [],
   "source": [
    "path_to_output_tsv_file = \"outputfile.tsv\"  # Choose your path and filename\n",
    "tandem_repeats.write(output_format = \"tsv\", file = path_to_output_tsv_file)"
   ]
  },
  {
   "cell_type": "markdown",
   "metadata": {},
   "source": [
    "This is how the output looks like (interpretation):"
   ]
  },
  {
   "cell_type": "code",
   "execution_count": 1,
   "metadata": {},
   "outputs": [
    {
     "name": "stdout",
     "output_type": "stream",
     "text": [
      "begin\tmsa_original\tl_effective\tn_effective\trepeat_region_length\tdivergence\tpvalue\r\n",
      "31\tR--------PRHGHRAVAIKELIVVFGGGN----------EGIVDELHV-----------------------------------------------------------YNTATNQW---FIPAVRGDIP-,P--------GCAAYGFVCDGTRLLVFGGMV--------EYGKYSNDLYELQ----ASRWEWK------------------------RLKAK---------------------------------------,TPKNGPPPCPRLGHSFSLVGNKCYLFGGLANDSEDPKNNIPRYLNDLYILELRPGSGVVAWDIPITYGVLPPPRESHTAVVYTEKDNKKSKLVIYGGMSGCRLGDLWTLDIDTLTW---NKPSLSGVAPL,---------PRSLHSATTIGNKMYVFGGWV----------PLVMDDVKVA-----THEKEWKCTNTLA---------------------------------------CLNLDTMAWETILMDTLEDNIP-,R--------ARAGHCAVAINTRLYI---------------------------------------------------------------------------------------------------------\t57\t3.824561403508772\t306\tNone\tNone\r\n"
     ]
    }
   ],
   "source": [
    "!cat outputfile.tsv"
   ]
  },
  {
   "cell_type": "markdown",
   "metadata": {},
   "source": [
    "Write a singe repeat_list to .pickle format:"
   ]
  },
  {
   "cell_type": "code",
   "execution_count": 7,
   "metadata": {},
   "outputs": [],
   "source": [
    "path_to_output_pickle_file = \"outputfile.pickle\"  # Choose your path and filename\n",
    "tandem_repeats.write(output_format = \"pickle\", file = path_to_output_pickle_file)"
   ]
  },
  {
   "cell_type": "markdown",
   "metadata": {},
   "source": [
    "A repeat_list in pickle format can easily be read in again:"
   ]
  },
  {
   "cell_type": "code",
   "execution_count": 8,
   "metadata": {},
   "outputs": [],
   "source": [
    "from tral.repeat_list import repeat_list\n",
    "tandem_repeats = repeat_list.RepeatList.create(input_format = \"pickle\", file = path_to_output_pickle_file)\n"
   ]
  }
 ],
 "metadata": {
  "kernelspec": {
   "display_name": "Python 3",
   "language": "python",
   "name": "python3"
  },
  "language_info": {
   "codemirror_mode": {
    "name": "ipython",
    "version": 3
   },
   "file_extension": ".py",
   "mimetype": "text/x-python",
   "name": "python",
   "nbconvert_exporter": "python",
   "pygments_lexer": "ipython3",
   "version": "3.7.0"
  }
 },
 "nbformat": 4,
 "nbformat_minor": 2
}
